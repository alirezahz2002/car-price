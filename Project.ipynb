{
 "cells": [
  {
   "cell_type": "markdown",
   "id": "c9d71b21",
   "metadata": {},
   "source": [
    "### Import libraries"
   ]
  },
  {
   "cell_type": "code",
   "execution_count": 814,
   "id": "c57d633a",
   "metadata": {},
   "outputs": [],
   "source": [
    "import numpy as np\n",
    "import pandas as pd\n",
    "import matplotlib.pyplot as plt\n",
    "from sklearn.model_selection import train_test_split\n",
    "from sklearn.linear_model import LinearRegression\n",
    "from sklearn import metrics"
   ]
  },
  {
   "cell_type": "markdown",
   "id": "c55a7c84",
   "metadata": {},
   "source": [
    "### Dataset preparation"
   ]
  },
  {
   "cell_type": "code",
   "execution_count": 815,
   "id": "e4fdebe2",
   "metadata": {},
   "outputs": [
    {
     "data": {
      "text/html": [
       "<div>\n",
       "<style scoped>\n",
       "    .dataframe tbody tr th:only-of-type {\n",
       "        vertical-align: middle;\n",
       "    }\n",
       "\n",
       "    .dataframe tbody tr th {\n",
       "        vertical-align: top;\n",
       "    }\n",
       "\n",
       "    .dataframe thead th {\n",
       "        text-align: right;\n",
       "    }\n",
       "</style>\n",
       "<table border=\"1\" class=\"dataframe\">\n",
       "  <thead>\n",
       "    <tr style=\"text-align: right;\">\n",
       "      <th></th>\n",
       "      <th>Car_Name</th>\n",
       "      <th>Year</th>\n",
       "      <th>Selling_Price</th>\n",
       "      <th>Present_Price</th>\n",
       "      <th>Kms_Driven</th>\n",
       "      <th>Fuel_Type</th>\n",
       "      <th>Seller_Type</th>\n",
       "      <th>Transmission</th>\n",
       "      <th>Owner</th>\n",
       "    </tr>\n",
       "  </thead>\n",
       "  <tbody>\n",
       "    <tr>\n",
       "      <th>0</th>\n",
       "      <td>ritz</td>\n",
       "      <td>2014</td>\n",
       "      <td>3.35</td>\n",
       "      <td>5.59</td>\n",
       "      <td>27000</td>\n",
       "      <td>Petrol</td>\n",
       "      <td>Dealer</td>\n",
       "      <td>Manual</td>\n",
       "      <td>0</td>\n",
       "    </tr>\n",
       "    <tr>\n",
       "      <th>1</th>\n",
       "      <td>sx4</td>\n",
       "      <td>2013</td>\n",
       "      <td>4.75</td>\n",
       "      <td>9.54</td>\n",
       "      <td>43000</td>\n",
       "      <td>Diesel</td>\n",
       "      <td>Dealer</td>\n",
       "      <td>Manual</td>\n",
       "      <td>0</td>\n",
       "    </tr>\n",
       "    <tr>\n",
       "      <th>2</th>\n",
       "      <td>ciaz</td>\n",
       "      <td>2017</td>\n",
       "      <td>7.25</td>\n",
       "      <td>9.85</td>\n",
       "      <td>6900</td>\n",
       "      <td>Petrol</td>\n",
       "      <td>Dealer</td>\n",
       "      <td>Manual</td>\n",
       "      <td>0</td>\n",
       "    </tr>\n",
       "    <tr>\n",
       "      <th>3</th>\n",
       "      <td>wagon r</td>\n",
       "      <td>2011</td>\n",
       "      <td>2.85</td>\n",
       "      <td>4.15</td>\n",
       "      <td>5200</td>\n",
       "      <td>Petrol</td>\n",
       "      <td>Dealer</td>\n",
       "      <td>Manual</td>\n",
       "      <td>0</td>\n",
       "    </tr>\n",
       "    <tr>\n",
       "      <th>4</th>\n",
       "      <td>swift</td>\n",
       "      <td>2014</td>\n",
       "      <td>4.60</td>\n",
       "      <td>6.87</td>\n",
       "      <td>42450</td>\n",
       "      <td>Diesel</td>\n",
       "      <td>Dealer</td>\n",
       "      <td>Manual</td>\n",
       "      <td>0</td>\n",
       "    </tr>\n",
       "    <tr>\n",
       "      <th>...</th>\n",
       "      <td>...</td>\n",
       "      <td>...</td>\n",
       "      <td>...</td>\n",
       "      <td>...</td>\n",
       "      <td>...</td>\n",
       "      <td>...</td>\n",
       "      <td>...</td>\n",
       "      <td>...</td>\n",
       "      <td>...</td>\n",
       "    </tr>\n",
       "    <tr>\n",
       "      <th>296</th>\n",
       "      <td>city</td>\n",
       "      <td>2016</td>\n",
       "      <td>9.50</td>\n",
       "      <td>11.60</td>\n",
       "      <td>33988</td>\n",
       "      <td>Diesel</td>\n",
       "      <td>Dealer</td>\n",
       "      <td>Manual</td>\n",
       "      <td>0</td>\n",
       "    </tr>\n",
       "    <tr>\n",
       "      <th>297</th>\n",
       "      <td>brio</td>\n",
       "      <td>2015</td>\n",
       "      <td>4.00</td>\n",
       "      <td>5.90</td>\n",
       "      <td>60000</td>\n",
       "      <td>Petrol</td>\n",
       "      <td>Dealer</td>\n",
       "      <td>Manual</td>\n",
       "      <td>0</td>\n",
       "    </tr>\n",
       "    <tr>\n",
       "      <th>298</th>\n",
       "      <td>city</td>\n",
       "      <td>2009</td>\n",
       "      <td>3.35</td>\n",
       "      <td>11.00</td>\n",
       "      <td>87934</td>\n",
       "      <td>Petrol</td>\n",
       "      <td>Dealer</td>\n",
       "      <td>Manual</td>\n",
       "      <td>0</td>\n",
       "    </tr>\n",
       "    <tr>\n",
       "      <th>299</th>\n",
       "      <td>city</td>\n",
       "      <td>2017</td>\n",
       "      <td>11.50</td>\n",
       "      <td>12.50</td>\n",
       "      <td>9000</td>\n",
       "      <td>Diesel</td>\n",
       "      <td>Dealer</td>\n",
       "      <td>Manual</td>\n",
       "      <td>0</td>\n",
       "    </tr>\n",
       "    <tr>\n",
       "      <th>300</th>\n",
       "      <td>brio</td>\n",
       "      <td>2016</td>\n",
       "      <td>5.30</td>\n",
       "      <td>5.90</td>\n",
       "      <td>5464</td>\n",
       "      <td>Petrol</td>\n",
       "      <td>Dealer</td>\n",
       "      <td>Manual</td>\n",
       "      <td>0</td>\n",
       "    </tr>\n",
       "  </tbody>\n",
       "</table>\n",
       "<p>301 rows × 9 columns</p>\n",
       "</div>"
      ],
      "text/plain": [
       "    Car_Name  Year  Selling_Price  Present_Price  Kms_Driven Fuel_Type  \\\n",
       "0       ritz  2014           3.35           5.59       27000    Petrol   \n",
       "1        sx4  2013           4.75           9.54       43000    Diesel   \n",
       "2       ciaz  2017           7.25           9.85        6900    Petrol   \n",
       "3    wagon r  2011           2.85           4.15        5200    Petrol   \n",
       "4      swift  2014           4.60           6.87       42450    Diesel   \n",
       "..       ...   ...            ...            ...         ...       ...   \n",
       "296     city  2016           9.50          11.60       33988    Diesel   \n",
       "297     brio  2015           4.00           5.90       60000    Petrol   \n",
       "298     city  2009           3.35          11.00       87934    Petrol   \n",
       "299     city  2017          11.50          12.50        9000    Diesel   \n",
       "300     brio  2016           5.30           5.90        5464    Petrol   \n",
       "\n",
       "    Seller_Type Transmission  Owner  \n",
       "0        Dealer       Manual      0  \n",
       "1        Dealer       Manual      0  \n",
       "2        Dealer       Manual      0  \n",
       "3        Dealer       Manual      0  \n",
       "4        Dealer       Manual      0  \n",
       "..          ...          ...    ...  \n",
       "296      Dealer       Manual      0  \n",
       "297      Dealer       Manual      0  \n",
       "298      Dealer       Manual      0  \n",
       "299      Dealer       Manual      0  \n",
       "300      Dealer       Manual      0  \n",
       "\n",
       "[301 rows x 9 columns]"
      ]
     },
     "execution_count": 815,
     "metadata": {},
     "output_type": "execute_result"
    }
   ],
   "source": [
    "data = pd.read_csv('CarData.csv')\n",
    "data"
   ]
  },
  {
   "cell_type": "code",
   "execution_count": 816,
   "id": "7a710ebb",
   "metadata": {},
   "outputs": [
    {
     "data": {
      "text/plain": [
       "2018"
      ]
     },
     "execution_count": 816,
     "metadata": {},
     "output_type": "execute_result"
    }
   ],
   "source": [
    "data['Year'].max()"
   ]
  },
  {
   "cell_type": "code",
   "execution_count": 817,
   "id": "c5afd8be",
   "metadata": {},
   "outputs": [],
   "source": [
    "initial_data = data.copy()\n",
    "data.drop('Car_Name' , axis = 1, inplace = True)\n",
    "data.insert(1 , 'Age' , 2019-data['Year'])\n",
    "data.drop('Year' , axis = 1, inplace = True)"
   ]
  },
  {
   "cell_type": "markdown",
   "id": "201a105c",
   "metadata": {},
   "source": [
    "<!-- \n",
    "data['Fuel_Type'].replace({'CNG':2 , 'Petrol':4 , 'Diesel':6} , inplace=True)\n",
    "data['Seller_Type'].replace({'Individual':2 , 'Dealer':4} , inplace=True)\n",
    "data['Transmission'].replace({'Manual':2 , 'Automatic':4} , inplace=True) -->"
   ]
  },
  {
   "cell_type": "code",
   "execution_count": 818,
   "id": "c84f1c43",
   "metadata": {},
   "outputs": [],
   "source": [
    "df1 = pd.DataFrame(data)"
   ]
  },
  {
   "cell_type": "code",
   "execution_count": 819,
   "id": "6913a1ca",
   "metadata": {},
   "outputs": [
    {
     "data": {
      "text/html": [
       "<div>\n",
       "<style scoped>\n",
       "    .dataframe tbody tr th:only-of-type {\n",
       "        vertical-align: middle;\n",
       "    }\n",
       "\n",
       "    .dataframe tbody tr th {\n",
       "        vertical-align: top;\n",
       "    }\n",
       "\n",
       "    .dataframe thead th {\n",
       "        text-align: right;\n",
       "    }\n",
       "</style>\n",
       "<table border=\"1\" class=\"dataframe\">\n",
       "  <thead>\n",
       "    <tr style=\"text-align: right;\">\n",
       "      <th></th>\n",
       "      <th>Age</th>\n",
       "      <th>Selling_Price</th>\n",
       "      <th>Present_Price</th>\n",
       "      <th>Kms_Driven</th>\n",
       "      <th>Fuel_Type</th>\n",
       "      <th>Seller_Type</th>\n",
       "      <th>Transmission</th>\n",
       "      <th>Owner</th>\n",
       "    </tr>\n",
       "  </thead>\n",
       "  <tbody>\n",
       "    <tr>\n",
       "      <th>count</th>\n",
       "      <td>301.000000</td>\n",
       "      <td>301.000000</td>\n",
       "      <td>301.000000</td>\n",
       "      <td>301.000000</td>\n",
       "      <td>301</td>\n",
       "      <td>301</td>\n",
       "      <td>301</td>\n",
       "      <td>301.000000</td>\n",
       "    </tr>\n",
       "    <tr>\n",
       "      <th>unique</th>\n",
       "      <td>NaN</td>\n",
       "      <td>NaN</td>\n",
       "      <td>NaN</td>\n",
       "      <td>NaN</td>\n",
       "      <td>3</td>\n",
       "      <td>2</td>\n",
       "      <td>2</td>\n",
       "      <td>NaN</td>\n",
       "    </tr>\n",
       "    <tr>\n",
       "      <th>top</th>\n",
       "      <td>NaN</td>\n",
       "      <td>NaN</td>\n",
       "      <td>NaN</td>\n",
       "      <td>NaN</td>\n",
       "      <td>Petrol</td>\n",
       "      <td>Dealer</td>\n",
       "      <td>Manual</td>\n",
       "      <td>NaN</td>\n",
       "    </tr>\n",
       "    <tr>\n",
       "      <th>freq</th>\n",
       "      <td>NaN</td>\n",
       "      <td>NaN</td>\n",
       "      <td>NaN</td>\n",
       "      <td>NaN</td>\n",
       "      <td>239</td>\n",
       "      <td>195</td>\n",
       "      <td>261</td>\n",
       "      <td>NaN</td>\n",
       "    </tr>\n",
       "    <tr>\n",
       "      <th>mean</th>\n",
       "      <td>5.372093</td>\n",
       "      <td>4.661296</td>\n",
       "      <td>7.628472</td>\n",
       "      <td>36947.205980</td>\n",
       "      <td>NaN</td>\n",
       "      <td>NaN</td>\n",
       "      <td>NaN</td>\n",
       "      <td>0.043189</td>\n",
       "    </tr>\n",
       "    <tr>\n",
       "      <th>std</th>\n",
       "      <td>2.891554</td>\n",
       "      <td>5.082812</td>\n",
       "      <td>8.644115</td>\n",
       "      <td>38886.883882</td>\n",
       "      <td>NaN</td>\n",
       "      <td>NaN</td>\n",
       "      <td>NaN</td>\n",
       "      <td>0.247915</td>\n",
       "    </tr>\n",
       "    <tr>\n",
       "      <th>min</th>\n",
       "      <td>1.000000</td>\n",
       "      <td>0.100000</td>\n",
       "      <td>0.320000</td>\n",
       "      <td>500.000000</td>\n",
       "      <td>NaN</td>\n",
       "      <td>NaN</td>\n",
       "      <td>NaN</td>\n",
       "      <td>0.000000</td>\n",
       "    </tr>\n",
       "    <tr>\n",
       "      <th>25%</th>\n",
       "      <td>3.000000</td>\n",
       "      <td>0.900000</td>\n",
       "      <td>1.200000</td>\n",
       "      <td>15000.000000</td>\n",
       "      <td>NaN</td>\n",
       "      <td>NaN</td>\n",
       "      <td>NaN</td>\n",
       "      <td>0.000000</td>\n",
       "    </tr>\n",
       "    <tr>\n",
       "      <th>50%</th>\n",
       "      <td>5.000000</td>\n",
       "      <td>3.600000</td>\n",
       "      <td>6.400000</td>\n",
       "      <td>32000.000000</td>\n",
       "      <td>NaN</td>\n",
       "      <td>NaN</td>\n",
       "      <td>NaN</td>\n",
       "      <td>0.000000</td>\n",
       "    </tr>\n",
       "    <tr>\n",
       "      <th>75%</th>\n",
       "      <td>7.000000</td>\n",
       "      <td>6.000000</td>\n",
       "      <td>9.900000</td>\n",
       "      <td>48767.000000</td>\n",
       "      <td>NaN</td>\n",
       "      <td>NaN</td>\n",
       "      <td>NaN</td>\n",
       "      <td>0.000000</td>\n",
       "    </tr>\n",
       "    <tr>\n",
       "      <th>max</th>\n",
       "      <td>16.000000</td>\n",
       "      <td>35.000000</td>\n",
       "      <td>92.600000</td>\n",
       "      <td>500000.000000</td>\n",
       "      <td>NaN</td>\n",
       "      <td>NaN</td>\n",
       "      <td>NaN</td>\n",
       "      <td>3.000000</td>\n",
       "    </tr>\n",
       "  </tbody>\n",
       "</table>\n",
       "</div>"
      ],
      "text/plain": [
       "               Age  Selling_Price  Present_Price     Kms_Driven Fuel_Type  \\\n",
       "count   301.000000     301.000000     301.000000     301.000000       301   \n",
       "unique         NaN            NaN            NaN            NaN         3   \n",
       "top            NaN            NaN            NaN            NaN    Petrol   \n",
       "freq           NaN            NaN            NaN            NaN       239   \n",
       "mean      5.372093       4.661296       7.628472   36947.205980       NaN   \n",
       "std       2.891554       5.082812       8.644115   38886.883882       NaN   \n",
       "min       1.000000       0.100000       0.320000     500.000000       NaN   \n",
       "25%       3.000000       0.900000       1.200000   15000.000000       NaN   \n",
       "50%       5.000000       3.600000       6.400000   32000.000000       NaN   \n",
       "75%       7.000000       6.000000       9.900000   48767.000000       NaN   \n",
       "max      16.000000      35.000000      92.600000  500000.000000       NaN   \n",
       "\n",
       "       Seller_Type Transmission       Owner  \n",
       "count          301          301  301.000000  \n",
       "unique           2            2         NaN  \n",
       "top         Dealer       Manual         NaN  \n",
       "freq           195          261         NaN  \n",
       "mean           NaN          NaN    0.043189  \n",
       "std            NaN          NaN    0.247915  \n",
       "min            NaN          NaN    0.000000  \n",
       "25%            NaN          NaN    0.000000  \n",
       "50%            NaN          NaN    0.000000  \n",
       "75%            NaN          NaN    0.000000  \n",
       "max            NaN          NaN    3.000000  "
      ]
     },
     "execution_count": 819,
     "metadata": {},
     "output_type": "execute_result"
    }
   ],
   "source": [
    "df1.describe(include = 'all')"
   ]
  },
  {
   "cell_type": "code",
   "execution_count": 820,
   "id": "fa96dfd1",
   "metadata": {},
   "outputs": [],
   "source": [
    "###   There are no missing values in this dataset.\n",
    "#####   Type 1 error = Missing value     DONE!   #####"
   ]
  },
  {
   "cell_type": "code",
   "execution_count": 821,
   "id": "f9778a01",
   "metadata": {},
   "outputs": [
    {
     "data": {
      "image/png": "[encoded data removed]",
      "text/plain": [
       "<Figure size 640x480 with 1 Axes>"
      ]
     },
     "metadata": {},
     "output_type": "display_data"
    }
   ],
   "source": [
    "plt.scatter(df1['Age'] , df1['Selling_Price'])\n",
    "plt.grid()"
   ]
  },
  {
   "cell_type": "code",
   "execution_count": 822,
   "id": "ac02dfd5",
   "metadata": {},
   "outputs": [
    {
     "data": {
      "image/png": "[encoded data removed]",
      "text/plain": [
       "<Figure size 640x480 with 1 Axes>"
      ]
     },
     "metadata": {},
     "output_type": "display_data"
    }
   ],
   "source": [
    "plt.scatter(df1['Present_Price'] , df1['Selling_Price'])\n",
    "plt.grid()"
   ]
  },
  {
   "cell_type": "code",
   "execution_count": 823,
   "id": "3cc96d69",
   "metadata": {},
   "outputs": [
    {
     "data": {
      "image/png": "[encoded data removed]",
      "text/plain": [
       "<Figure size 640x480 with 1 Axes>"
      ]
     },
     "metadata": {},
     "output_type": "display_data"
    }
   ],
   "source": [
    "plt.scatter(df1['Kms_Driven'] , df1['Selling_Price'])\n",
    "plt.grid()"
   ]
  },
  {
   "cell_type": "code",
   "execution_count": 824,
   "id": "20793719",
   "metadata": {},
   "outputs": [
    {
     "data": {
      "image/png": "[encoded data removed]",
      "text/plain": [
       "<Figure size 640x480 with 1 Axes>"
      ]
     },
     "metadata": {},
     "output_type": "display_data"
    }
   ],
   "source": [
    "plt.scatter(df1['Fuel_Type'] , df1['Selling_Price'])\n",
    "plt.grid()"
   ]
  },
  {
   "cell_type": "code",
   "execution_count": 825,
   "id": "727adfa8",
   "metadata": {},
   "outputs": [
    {
     "data": {
      "image/png": "[encoded data removed]",
      "text/plain": [
       "<Figure size 640x480 with 1 Axes>"
      ]
     },
     "metadata": {},
     "output_type": "display_data"
    }
   ],
   "source": [
    "plt.scatter(df1['Seller_Type'] , df1['Selling_Price'])\n",
    "plt.grid()"
   ]
  },
  {
   "cell_type": "code",
   "execution_count": 826,
   "id": "857314c6",
   "metadata": {},
   "outputs": [
    {
     "data": {
      "image/png": "[encoded data removed]",
      "text/plain": [
       "<Figure size 640x480 with 1 Axes>"
      ]
     },
     "metadata": {},
     "output_type": "display_data"
    }
   ],
   "source": [
    "plt.scatter(df1['Transmission'] , df1['Selling_Price'])\n",
    "plt.grid()"
   ]
  },
  {
   "cell_type": "code",
   "execution_count": 827,
   "id": "62ebb93d",
   "metadata": {},
   "outputs": [
    {
     "data": {
      "image/png": "[encoded data removed]",
      "text/plain": [
       "<Figure size 640x480 with 1 Axes>"
      ]
     },
     "metadata": {},
     "output_type": "display_data"
    }
   ],
   "source": [
    "plt.scatter(df1['Owner'] , df1['Selling_Price'])\n",
    "plt.grid()"
   ]
  },
  {
   "cell_type": "code",
   "execution_count": 828,
   "id": "c7f3053d",
   "metadata": {},
   "outputs": [
    {
     "data": {
      "text/html": [
       "<div>\n",
       "<style scoped>\n",
       "    .dataframe tbody tr th:only-of-type {\n",
       "        vertical-align: middle;\n",
       "    }\n",
       "\n",
       "    .dataframe tbody tr th {\n",
       "        vertical-align: top;\n",
       "    }\n",
       "\n",
       "    .dataframe thead th {\n",
       "        text-align: right;\n",
       "    }\n",
       "</style>\n",
       "<table border=\"1\" class=\"dataframe\">\n",
       "  <thead>\n",
       "    <tr style=\"text-align: right;\">\n",
       "      <th></th>\n",
       "      <th>Age</th>\n",
       "      <th>Selling_Price</th>\n",
       "      <th>Present_Price</th>\n",
       "      <th>Kms_Driven</th>\n",
       "      <th>Fuel_Type</th>\n",
       "      <th>Seller_Type</th>\n",
       "      <th>Transmission</th>\n",
       "      <th>Owner</th>\n",
       "    </tr>\n",
       "  </thead>\n",
       "  <tbody>\n",
       "    <tr>\n",
       "      <th>64</th>\n",
       "      <td>2</td>\n",
       "      <td>33.0</td>\n",
       "      <td>36.23</td>\n",
       "      <td>6000</td>\n",
       "      <td>Diesel</td>\n",
       "      <td>Dealer</td>\n",
       "      <td>Automatic</td>\n",
       "      <td>0</td>\n",
       "    </tr>\n",
       "    <tr>\n",
       "      <th>86</th>\n",
       "      <td>9</td>\n",
       "      <td>35.0</td>\n",
       "      <td>92.60</td>\n",
       "      <td>78000</td>\n",
       "      <td>Diesel</td>\n",
       "      <td>Dealer</td>\n",
       "      <td>Manual</td>\n",
       "      <td>0</td>\n",
       "    </tr>\n",
       "  </tbody>\n",
       "</table>\n",
       "</div>"
      ],
      "text/plain": [
       "    Age  Selling_Price  Present_Price  Kms_Driven Fuel_Type Seller_Type  \\\n",
       "64    2           33.0          36.23        6000    Diesel      Dealer   \n",
       "86    9           35.0          92.60       78000    Diesel      Dealer   \n",
       "\n",
       "   Transmission  Owner  \n",
       "64    Automatic      0  \n",
       "86       Manual      0  "
      ]
     },
     "execution_count": 828,
     "metadata": {},
     "output_type": "execute_result"
    }
   ],
   "source": [
    "df1[df1['Selling_Price'] > 30]"
   ]
  },
  {
   "cell_type": "code",
   "execution_count": 829,
   "id": "044cbc93",
   "metadata": {},
   "outputs": [
    {
     "data": {
      "text/html": [
       "<div>\n",
       "<style scoped>\n",
       "    .dataframe tbody tr th:only-of-type {\n",
       "        vertical-align: middle;\n",
       "    }\n",
       "\n",
       "    .dataframe tbody tr th {\n",
       "        vertical-align: top;\n",
       "    }\n",
       "\n",
       "    .dataframe thead th {\n",
       "        text-align: right;\n",
       "    }\n",
       "</style>\n",
       "<table border=\"1\" class=\"dataframe\">\n",
       "  <thead>\n",
       "    <tr style=\"text-align: right;\">\n",
       "      <th></th>\n",
       "      <th>Car_Name</th>\n",
       "      <th>Year</th>\n",
       "      <th>Selling_Price</th>\n",
       "      <th>Present_Price</th>\n",
       "      <th>Kms_Driven</th>\n",
       "      <th>Fuel_Type</th>\n",
       "      <th>Seller_Type</th>\n",
       "      <th>Transmission</th>\n",
       "      <th>Owner</th>\n",
       "    </tr>\n",
       "  </thead>\n",
       "  <tbody>\n",
       "    <tr>\n",
       "      <th>86</th>\n",
       "      <td>land cruiser</td>\n",
       "      <td>2010</td>\n",
       "      <td>35.0</td>\n",
       "      <td>92.6</td>\n",
       "      <td>78000</td>\n",
       "      <td>Diesel</td>\n",
       "      <td>Dealer</td>\n",
       "      <td>Manual</td>\n",
       "      <td>0</td>\n",
       "    </tr>\n",
       "  </tbody>\n",
       "</table>\n",
       "</div>"
      ],
      "text/plain": [
       "        Car_Name  Year  Selling_Price  Present_Price  Kms_Driven Fuel_Type  \\\n",
       "86  land cruiser  2010           35.0           92.6       78000    Diesel   \n",
       "\n",
       "   Seller_Type Transmission  Owner  \n",
       "86      Dealer       Manual      0  "
      ]
     },
     "execution_count": 829,
     "metadata": {},
     "output_type": "execute_result"
    }
   ],
   "source": [
    "initial_data[initial_data['Car_Name'] == 'land cruiser']"
   ]
  },
  {
   "cell_type": "code",
   "execution_count": 830,
   "id": "fce0d513",
   "metadata": {},
   "outputs": [
    {
     "data": {
      "text/html": [
       "<div>\n",
       "<style scoped>\n",
       "    .dataframe tbody tr th:only-of-type {\n",
       "        vertical-align: middle;\n",
       "    }\n",
       "\n",
       "    .dataframe tbody tr th {\n",
       "        vertical-align: top;\n",
       "    }\n",
       "\n",
       "    .dataframe thead th {\n",
       "        text-align: right;\n",
       "    }\n",
       "</style>\n",
       "<table border=\"1\" class=\"dataframe\">\n",
       "  <thead>\n",
       "    <tr style=\"text-align: right;\">\n",
       "      <th></th>\n",
       "      <th>Age</th>\n",
       "      <th>Selling_Price</th>\n",
       "      <th>Present_Price</th>\n",
       "      <th>Kms_Driven</th>\n",
       "      <th>Fuel_Type</th>\n",
       "      <th>Seller_Type</th>\n",
       "      <th>Transmission</th>\n",
       "      <th>Owner</th>\n",
       "    </tr>\n",
       "  </thead>\n",
       "  <tbody>\n",
       "    <tr>\n",
       "      <th>51</th>\n",
       "      <td>4</td>\n",
       "      <td>23.00</td>\n",
       "      <td>30.61</td>\n",
       "      <td>40000</td>\n",
       "      <td>Diesel</td>\n",
       "      <td>Dealer</td>\n",
       "      <td>Automatic</td>\n",
       "      <td>0</td>\n",
       "    </tr>\n",
       "    <tr>\n",
       "      <th>52</th>\n",
       "      <td>2</td>\n",
       "      <td>18.00</td>\n",
       "      <td>19.77</td>\n",
       "      <td>15000</td>\n",
       "      <td>Diesel</td>\n",
       "      <td>Dealer</td>\n",
       "      <td>Automatic</td>\n",
       "      <td>0</td>\n",
       "    </tr>\n",
       "    <tr>\n",
       "      <th>59</th>\n",
       "      <td>5</td>\n",
       "      <td>19.99</td>\n",
       "      <td>35.96</td>\n",
       "      <td>41000</td>\n",
       "      <td>Diesel</td>\n",
       "      <td>Dealer</td>\n",
       "      <td>Automatic</td>\n",
       "      <td>0</td>\n",
       "    </tr>\n",
       "    <tr>\n",
       "      <th>62</th>\n",
       "      <td>5</td>\n",
       "      <td>18.75</td>\n",
       "      <td>35.96</td>\n",
       "      <td>78000</td>\n",
       "      <td>Diesel</td>\n",
       "      <td>Dealer</td>\n",
       "      <td>Automatic</td>\n",
       "      <td>0</td>\n",
       "    </tr>\n",
       "    <tr>\n",
       "      <th>63</th>\n",
       "      <td>4</td>\n",
       "      <td>23.50</td>\n",
       "      <td>35.96</td>\n",
       "      <td>47000</td>\n",
       "      <td>Diesel</td>\n",
       "      <td>Dealer</td>\n",
       "      <td>Automatic</td>\n",
       "      <td>0</td>\n",
       "    </tr>\n",
       "    <tr>\n",
       "      <th>64</th>\n",
       "      <td>2</td>\n",
       "      <td>33.00</td>\n",
       "      <td>36.23</td>\n",
       "      <td>6000</td>\n",
       "      <td>Diesel</td>\n",
       "      <td>Dealer</td>\n",
       "      <td>Automatic</td>\n",
       "      <td>0</td>\n",
       "    </tr>\n",
       "    <tr>\n",
       "      <th>66</th>\n",
       "      <td>2</td>\n",
       "      <td>19.75</td>\n",
       "      <td>23.15</td>\n",
       "      <td>11000</td>\n",
       "      <td>Petrol</td>\n",
       "      <td>Dealer</td>\n",
       "      <td>Automatic</td>\n",
       "      <td>0</td>\n",
       "    </tr>\n",
       "    <tr>\n",
       "      <th>82</th>\n",
       "      <td>2</td>\n",
       "      <td>23.00</td>\n",
       "      <td>25.39</td>\n",
       "      <td>15000</td>\n",
       "      <td>Diesel</td>\n",
       "      <td>Dealer</td>\n",
       "      <td>Automatic</td>\n",
       "      <td>0</td>\n",
       "    </tr>\n",
       "    <tr>\n",
       "      <th>86</th>\n",
       "      <td>9</td>\n",
       "      <td>35.00</td>\n",
       "      <td>92.60</td>\n",
       "      <td>78000</td>\n",
       "      <td>Diesel</td>\n",
       "      <td>Dealer</td>\n",
       "      <td>Manual</td>\n",
       "      <td>0</td>\n",
       "    </tr>\n",
       "    <tr>\n",
       "      <th>93</th>\n",
       "      <td>4</td>\n",
       "      <td>23.00</td>\n",
       "      <td>30.61</td>\n",
       "      <td>40000</td>\n",
       "      <td>Diesel</td>\n",
       "      <td>Dealer</td>\n",
       "      <td>Automatic</td>\n",
       "      <td>0</td>\n",
       "    </tr>\n",
       "    <tr>\n",
       "      <th>96</th>\n",
       "      <td>3</td>\n",
       "      <td>20.75</td>\n",
       "      <td>25.39</td>\n",
       "      <td>29000</td>\n",
       "      <td>Diesel</td>\n",
       "      <td>Dealer</td>\n",
       "      <td>Automatic</td>\n",
       "      <td>0</td>\n",
       "    </tr>\n",
       "    <tr>\n",
       "      <th>97</th>\n",
       "      <td>2</td>\n",
       "      <td>17.00</td>\n",
       "      <td>18.64</td>\n",
       "      <td>8700</td>\n",
       "      <td>Petrol</td>\n",
       "      <td>Dealer</td>\n",
       "      <td>Manual</td>\n",
       "      <td>0</td>\n",
       "    </tr>\n",
       "  </tbody>\n",
       "</table>\n",
       "</div>"
      ],
      "text/plain": [
       "    Age  Selling_Price  Present_Price  Kms_Driven Fuel_Type Seller_Type  \\\n",
       "51    4          23.00          30.61       40000    Diesel      Dealer   \n",
       "52    2          18.00          19.77       15000    Diesel      Dealer   \n",
       "59    5          19.99          35.96       41000    Diesel      Dealer   \n",
       "62    5          18.75          35.96       78000    Diesel      Dealer   \n",
       "63    4          23.50          35.96       47000    Diesel      Dealer   \n",
       "64    2          33.00          36.23        6000    Diesel      Dealer   \n",
       "66    2          19.75          23.15       11000    Petrol      Dealer   \n",
       "82    2          23.00          25.39       15000    Diesel      Dealer   \n",
       "86    9          35.00          92.60       78000    Diesel      Dealer   \n",
       "93    4          23.00          30.61       40000    Diesel      Dealer   \n",
       "96    3          20.75          25.39       29000    Diesel      Dealer   \n",
       "97    2          17.00          18.64        8700    Petrol      Dealer   \n",
       "\n",
       "   Transmission  Owner  \n",
       "51    Automatic      0  \n",
       "52    Automatic      0  \n",
       "59    Automatic      0  \n",
       "62    Automatic      0  \n",
       "63    Automatic      0  \n",
       "64    Automatic      0  \n",
       "66    Automatic      0  \n",
       "82    Automatic      0  \n",
       "86       Manual      0  \n",
       "93    Automatic      0  \n",
       "96    Automatic      0  \n",
       "97       Manual      0  "
      ]
     },
     "execution_count": 830,
     "metadata": {},
     "output_type": "execute_result"
    }
   ],
   "source": [
    "df1[(df1['Seller_Type'] == 'Dealer') & (df1['Selling_Price'] > 15)]"
   ]
  },
  {
   "cell_type": "code",
   "execution_count": 831,
   "id": "5b8de5f0",
   "metadata": {},
   "outputs": [],
   "source": [
    "###   Noises:\n",
    "###   Kms_Driven < 230000     =>  X\n",
    "###   Owner != 3\n",
    "###   Selling_Price < 25\n",
    "###   Selling_Price < 5 (in Seller_Type = 'Individual')     =>  X"
   ]
  },
  {
   "cell_type": "code",
   "execution_count": 832,
   "id": "edf1680b",
   "metadata": {},
   "outputs": [],
   "source": [
    "df2 = df1# [df1['Kms_Driven'] < 230000]"
   ]
  },
  {
   "cell_type": "code",
   "execution_count": 833,
   "id": "f3df1c46",
   "metadata": {},
   "outputs": [],
   "source": [
    "df3 = df2[df2['Owner'] != 3]"
   ]
  },
  {
   "cell_type": "code",
   "execution_count": 834,
   "id": "e1f201f0",
   "metadata": {},
   "outputs": [],
   "source": [
    "df4 = df3[df3['Selling_Price'] < 25]\n",
    "# df4.drop(df4[(df4['Seller_Type'] == 'Individual') & (df4['Selling_Price'] > 5)].index, inplace = True)"
   ]
  },
  {
   "cell_type": "code",
   "execution_count": 835,
   "id": "6ed73f04",
   "metadata": {},
   "outputs": [
    {
     "data": {
      "text/html": [
       "<div>\n",
       "<style scoped>\n",
       "    .dataframe tbody tr th:only-of-type {\n",
       "        vertical-align: middle;\n",
       "    }\n",
       "\n",
       "    .dataframe tbody tr th {\n",
       "        vertical-align: top;\n",
       "    }\n",
       "\n",
       "    .dataframe thead th {\n",
       "        text-align: right;\n",
       "    }\n",
       "</style>\n",
       "<table border=\"1\" class=\"dataframe\">\n",
       "  <thead>\n",
       "    <tr style=\"text-align: right;\">\n",
       "      <th></th>\n",
       "      <th>Age</th>\n",
       "      <th>Selling_Price</th>\n",
       "      <th>Present_Price</th>\n",
       "      <th>Kms_Driven</th>\n",
       "      <th>Fuel_Type</th>\n",
       "      <th>Seller_Type</th>\n",
       "      <th>Transmission</th>\n",
       "      <th>Owner</th>\n",
       "    </tr>\n",
       "  </thead>\n",
       "  <tbody>\n",
       "    <tr>\n",
       "      <th>count</th>\n",
       "      <td>298.000000</td>\n",
       "      <td>298.000000</td>\n",
       "      <td>298.000000</td>\n",
       "      <td>298.000000</td>\n",
       "      <td>298</td>\n",
       "      <td>298</td>\n",
       "      <td>298</td>\n",
       "      <td>298.000000</td>\n",
       "    </tr>\n",
       "    <tr>\n",
       "      <th>unique</th>\n",
       "      <td>NaN</td>\n",
       "      <td>NaN</td>\n",
       "      <td>NaN</td>\n",
       "      <td>NaN</td>\n",
       "      <td>3</td>\n",
       "      <td>2</td>\n",
       "      <td>2</td>\n",
       "      <td>NaN</td>\n",
       "    </tr>\n",
       "    <tr>\n",
       "      <th>top</th>\n",
       "      <td>NaN</td>\n",
       "      <td>NaN</td>\n",
       "      <td>NaN</td>\n",
       "      <td>NaN</td>\n",
       "      <td>Petrol</td>\n",
       "      <td>Dealer</td>\n",
       "      <td>Manual</td>\n",
       "      <td>NaN</td>\n",
       "    </tr>\n",
       "    <tr>\n",
       "      <th>freq</th>\n",
       "      <td>NaN</td>\n",
       "      <td>NaN</td>\n",
       "      <td>NaN</td>\n",
       "      <td>NaN</td>\n",
       "      <td>238</td>\n",
       "      <td>193</td>\n",
       "      <td>260</td>\n",
       "      <td>NaN</td>\n",
       "    </tr>\n",
       "    <tr>\n",
       "      <th>mean</th>\n",
       "      <td>5.345638</td>\n",
       "      <td>4.471644</td>\n",
       "      <td>7.193322</td>\n",
       "      <td>36560.768456</td>\n",
       "      <td>NaN</td>\n",
       "      <td>NaN</td>\n",
       "      <td>NaN</td>\n",
       "      <td>0.033557</td>\n",
       "    </tr>\n",
       "    <tr>\n",
       "      <th>std</th>\n",
       "      <td>2.857679</td>\n",
       "      <td>4.499002</td>\n",
       "      <td>6.880981</td>\n",
       "      <td>38487.099107</td>\n",
       "      <td>NaN</td>\n",
       "      <td>NaN</td>\n",
       "      <td>NaN</td>\n",
       "      <td>0.180389</td>\n",
       "    </tr>\n",
       "    <tr>\n",
       "      <th>min</th>\n",
       "      <td>1.000000</td>\n",
       "      <td>0.100000</td>\n",
       "      <td>0.320000</td>\n",
       "      <td>500.000000</td>\n",
       "      <td>NaN</td>\n",
       "      <td>NaN</td>\n",
       "      <td>NaN</td>\n",
       "      <td>0.000000</td>\n",
       "    </tr>\n",
       "    <tr>\n",
       "      <th>25%</th>\n",
       "      <td>3.000000</td>\n",
       "      <td>0.825000</td>\n",
       "      <td>1.200000</td>\n",
       "      <td>15000.000000</td>\n",
       "      <td>NaN</td>\n",
       "      <td>NaN</td>\n",
       "      <td>NaN</td>\n",
       "      <td>0.000000</td>\n",
       "    </tr>\n",
       "    <tr>\n",
       "      <th>50%</th>\n",
       "      <td>5.000000</td>\n",
       "      <td>3.555000</td>\n",
       "      <td>6.075000</td>\n",
       "      <td>32000.000000</td>\n",
       "      <td>NaN</td>\n",
       "      <td>NaN</td>\n",
       "      <td>NaN</td>\n",
       "      <td>0.000000</td>\n",
       "    </tr>\n",
       "    <tr>\n",
       "      <th>75%</th>\n",
       "      <td>7.000000</td>\n",
       "      <td>6.000000</td>\n",
       "      <td>9.757500</td>\n",
       "      <td>47750.000000</td>\n",
       "      <td>NaN</td>\n",
       "      <td>NaN</td>\n",
       "      <td>NaN</td>\n",
       "      <td>0.000000</td>\n",
       "    </tr>\n",
       "    <tr>\n",
       "      <th>max</th>\n",
       "      <td>16.000000</td>\n",
       "      <td>23.500000</td>\n",
       "      <td>35.960000</td>\n",
       "      <td>500000.000000</td>\n",
       "      <td>NaN</td>\n",
       "      <td>NaN</td>\n",
       "      <td>NaN</td>\n",
       "      <td>1.000000</td>\n",
       "    </tr>\n",
       "  </tbody>\n",
       "</table>\n",
       "</div>"
      ],
      "text/plain": [
       "               Age  Selling_Price  Present_Price     Kms_Driven Fuel_Type  \\\n",
       "count   298.000000     298.000000     298.000000     298.000000       298   \n",
       "unique         NaN            NaN            NaN            NaN         3   \n",
       "top            NaN            NaN            NaN            NaN    Petrol   \n",
       "freq           NaN            NaN            NaN            NaN       238   \n",
       "mean      5.345638       4.471644       7.193322   36560.768456       NaN   \n",
       "std       2.857679       4.499002       6.880981   38487.099107       NaN   \n",
       "min       1.000000       0.100000       0.320000     500.000000       NaN   \n",
       "25%       3.000000       0.825000       1.200000   15000.000000       NaN   \n",
       "50%       5.000000       3.555000       6.075000   32000.000000       NaN   \n",
       "75%       7.000000       6.000000       9.757500   47750.000000       NaN   \n",
       "max      16.000000      23.500000      35.960000  500000.000000       NaN   \n",
       "\n",
       "       Seller_Type Transmission       Owner  \n",
       "count          298          298  298.000000  \n",
       "unique           2            2         NaN  \n",
       "top         Dealer       Manual         NaN  \n",
       "freq           193          260         NaN  \n",
       "mean           NaN          NaN    0.033557  \n",
       "std            NaN          NaN    0.180389  \n",
       "min            NaN          NaN    0.000000  \n",
       "25%            NaN          NaN    0.000000  \n",
       "50%            NaN          NaN    0.000000  \n",
       "75%            NaN          NaN    0.000000  \n",
       "max            NaN          NaN    1.000000  "
      ]
     },
     "execution_count": 835,
     "metadata": {},
     "output_type": "execute_result"
    }
   ],
   "source": [
    "df4.describe(include = 'all')"
   ]
  },
  {
   "cell_type": "code",
   "execution_count": 836,
   "id": "47928116",
   "metadata": {},
   "outputs": [],
   "source": [
    "#####   Type 2 error = Noise     DONE!   #####"
   ]
  },
  {
   "cell_type": "code",
   "execution_count": 837,
   "id": "fd95de01",
   "metadata": {},
   "outputs": [
    {
     "data": {
      "image/png": "[encoded data removed]",
      "text/plain": [
       "<Figure size 640x480 with 1 Axes>"
      ]
     },
     "metadata": {},
     "output_type": "display_data"
    }
   ],
   "source": [
    "df_test_1 = df4.copy()\n",
    "df_test_1['Fuel_Type'].replace({'CNG':5 , 'Petrol':8 , 'Diesel':10}, inplace = True)\n",
    "plt.scatter(df_test_1['Fuel_Type'] , df_test_1['Selling_Price'])\n",
    "plt.grid()"
   ]
  },
  {
   "cell_type": "code",
   "execution_count": 838,
   "id": "e0c80f3f",
   "metadata": {},
   "outputs": [
    {
     "data": {
      "image/png": "[encoded data removed]",
      "text/plain": [
       "<Figure size 640x480 with 1 Axes>"
      ]
     },
     "metadata": {},
     "output_type": "display_data"
    }
   ],
   "source": [
    "df_test_2 = df_test_1.copy()\n",
    "df_test_2['Seller_Type'].replace({'Individual':2 , 'Dealer':10} , inplace=True)\n",
    "plt.scatter(df_test_2['Seller_Type'] , df_test_2['Selling_Price'])\n",
    "plt.grid()"
   ]
  },
  {
   "cell_type": "code",
   "execution_count": 839,
   "id": "34fb99fd",
   "metadata": {},
   "outputs": [
    {
     "data": {
      "image/png": "[encoded data removed]",
      "text/plain": [
       "<Figure size 640x480 with 1 Axes>"
      ]
     },
     "metadata": {},
     "output_type": "display_data"
    }
   ],
   "source": [
    "df_test_3 = df_test_2.copy()\n",
    "df_test_3['Transmission'].replace({'Manual':3 , 'Automatic':5} , inplace=True)\n",
    "plt.scatter(df_test_3['Transmission'] , df_test_3['Selling_Price'])\n",
    "plt.grid()"
   ]
  },
  {
   "cell_type": "code",
   "execution_count": 840,
   "id": "14024d7a",
   "metadata": {},
   "outputs": [
    {
     "data": {
      "image/png": "[encoded data removed]",
      "text/plain": [
       "<Figure size 640x480 with 1 Axes>"
      ]
     },
     "metadata": {},
     "output_type": "display_data"
    }
   ],
   "source": [
    "df_test_4 = df_test_3.copy()\n",
    "df_test_4['Owner'].replace({0:5} , inplace=True)\n",
    "plt.scatter(df_test_4['Owner'] , df_test_4['Selling_Price'])\n",
    "plt.grid()"
   ]
  },
  {
   "cell_type": "code",
   "execution_count": 841,
   "id": "779469bb",
   "metadata": {},
   "outputs": [],
   "source": [
    "df5 = df_test_4.copy()"
   ]
  },
  {
   "cell_type": "markdown",
   "id": "adfb8bef",
   "metadata": {},
   "source": [
    "########################   Our dataset is ready for modeling.   ########################"
   ]
  },
  {
   "cell_type": "markdown",
   "id": "2a9a724f",
   "metadata": {},
   "source": [
    "### Final plots"
   ]
  },
  {
   "cell_type": "code",
   "execution_count": 842,
   "id": "5cf9fb2e",
   "metadata": {},
   "outputs": [
    {
     "data": {
      "image/png": "[encoded data removed]",
      "text/plain": [
       "<Figure size 640x480 with 1 Axes>"
      ]
     },
     "metadata": {},
     "output_type": "display_data"
    }
   ],
   "source": [
    "plt.scatter(df5['Age'] , df5['Selling_Price'])\n",
    "plt.title('Age VS Selling Price')\n",
    "plt.xlabel('Age')\n",
    "plt.ylabel('Selling Price')\n",
    "bbox = {'facecolor' : 'white' , 'alpha' : 0.5 , 'pad' : 5}\n",
    "plt.text(18 , 20 , 'We assume:\\nit is now 2019.' , bbox = bbox)\n",
    "plt.grid()\n",
    "plt.show()"
   ]
  },
  {
   "cell_type": "code",
   "execution_count": 843,
   "id": "d45f169f",
   "metadata": {},
   "outputs": [
    {
     "data": {
      "image/png": "[encoded data removed]",
      "text/plain": [
       "<Figure size 640x480 with 1 Axes>"
      ]
     },
     "metadata": {},
     "output_type": "display_data"
    }
   ],
   "source": [
    "plt.scatter(df5['Present_Price'] , df5['Selling_Price'])\n",
    "plt.title('Present Price VS Selling Price')\n",
    "plt.xlabel('Present Price')\n",
    "plt.ylabel('Selling Price')\n",
    "plt.grid()\n",
    "plt.show()"
   ]
  },
  {
   "cell_type": "code",
   "execution_count": 844,
   "id": "711dd61b",
   "metadata": {},
   "outputs": [
    {
     "data": {
      "image/png": "[encoded data removed]",
      "text/plain": [
       "<Figure size 1000x600 with 1 Axes>"
      ]
     },
     "metadata": {},
     "output_type": "display_data"
    }
   ],
   "source": [
    "plt.figure(figsize = (10,6))\n",
    "plt.scatter(df5['Kms_Driven'] , df5['Selling_Price'])\n",
    "plt.title('Kms Driven VS Selling Price')\n",
    "plt.xlabel('Kms Driven')\n",
    "plt.ylabel('Selling Price')\n",
    "plt.grid()\n",
    "plt.show()"
   ]
  },
  {
   "cell_type": "code",
   "execution_count": 845,
   "id": "0343d7f4",
   "metadata": {},
   "outputs": [
    {
     "data": {
      "image/png": "[encoded data removed]",
      "text/plain": [
       "<Figure size 640x480 with 1 Axes>"
      ]
     },
     "metadata": {},
     "output_type": "display_data"
    }
   ],
   "source": [
    "plt.scatter(df5['Fuel_Type'] , df5['Selling_Price'])\n",
    "plt.title('Fuel Type VS Selling Price')\n",
    "plt.xlabel('Fuel Type')\n",
    "plt.ylabel('Selling Price')\n",
    "plt.grid()\n",
    "bbox = {'facecolor' : 'white' , 'alpha' : 0.5 , 'pad' : 5}\n",
    "plt.text(10.5 , 20 , '5 : CNG\\n8 : Petrol\\n10 : Diesel' , bbox = bbox)\n",
    "plt.show()"
   ]
  },
  {
   "cell_type": "code",
   "execution_count": 846,
   "id": "88aaed37",
   "metadata": {},
   "outputs": [
    {
     "data": {
      "image/png": "[encoded data removed]",
      "text/plain": [
       "<Figure size 640x480 with 1 Axes>"
      ]
     },
     "metadata": {},
     "output_type": "display_data"
    }
   ],
   "source": [
    "plt.scatter(df5['Seller_Type'] , df5['Selling_Price'])\n",
    "plt.title('Seller Type VS Selling Price')\n",
    "plt.xlabel('Seller Type')\n",
    "plt.ylabel('Selling Price')\n",
    "plt.grid()\n",
    "bbox = {'facecolor' : 'white' , 'alpha' : 0.5 , 'pad' : 5}\n",
    "plt.text(10.8 , 20 , '2 : Individual\\n10 : Dealer' , bbox = bbox)\n",
    "plt.show()"
   ]
  },
  {
   "cell_type": "code",
   "execution_count": 847,
   "id": "036ec07a",
   "metadata": {},
   "outputs": [
    {
     "data": {
      "image/png": "[encoded data removed]",
      "text/plain": [
       "<Figure size 640x480 with 1 Axes>"
      ]
     },
     "metadata": {},
     "output_type": "display_data"
    }
   ],
   "source": [
    "plt.scatter(df5['Transmission'] , df5['Selling_Price'])\n",
    "plt.title('Transmission VS Selling Price')\n",
    "plt.xlabel('Transmission')\n",
    "plt.ylabel('Selling Price')\n",
    "plt.grid()\n",
    "bbox = {'facecolor' : 'white' , 'alpha' : 0.5 , 'pad' : 5}\n",
    "plt.text(5.2 , 20 , '3 : Manual\\n5 : Automatic' , bbox = bbox)\n",
    "plt.show()"
   ]
  },
  {
   "cell_type": "code",
   "execution_count": 848,
   "id": "3235fa87",
   "metadata": {},
   "outputs": [
    {
     "data": {
      "image/png": "[encoded data removed]",
      "text/plain": [
       "<Figure size 640x480 with 1 Axes>"
      ]
     },
     "metadata": {},
     "output_type": "display_data"
    }
   ],
   "source": [
    "plt.scatter(df5['Owner'] , df5['Selling_Price'])\n",
    "plt.title('Owner VS Selling Price')\n",
    "plt.xlabel('Owner')\n",
    "plt.ylabel('Selling Price')\n",
    "plt.grid()\n",
    "bbox = {'facecolor' : 'white' , 'alpha' : 0.5 , 'pad' : 5}\n",
    "plt.text(5.4 , 20 , '1 : Yes\\n5 : No' , bbox = bbox)\n",
    "plt.show()"
   ]
  },
  {
   "cell_type": "code",
   "execution_count": 849,
   "id": "12e087f3",
   "metadata": {},
   "outputs": [
    {
     "data": {
      "text/html": [
       "<div>\n",
       "<style scoped>\n",
       "    .dataframe tbody tr th:only-of-type {\n",
       "        vertical-align: middle;\n",
       "    }\n",
       "\n",
       "    .dataframe tbody tr th {\n",
       "        vertical-align: top;\n",
       "    }\n",
       "\n",
       "    .dataframe thead th {\n",
       "        text-align: right;\n",
       "    }\n",
       "</style>\n",
       "<table border=\"1\" class=\"dataframe\">\n",
       "  <thead>\n",
       "    <tr style=\"text-align: right;\">\n",
       "      <th></th>\n",
       "      <th>Age</th>\n",
       "      <th>Selling_Price</th>\n",
       "      <th>Present_Price</th>\n",
       "      <th>Kms_Driven</th>\n",
       "      <th>Fuel_Type</th>\n",
       "      <th>Seller_Type</th>\n",
       "      <th>Transmission</th>\n",
       "      <th>Owner</th>\n",
       "    </tr>\n",
       "  </thead>\n",
       "  <tbody>\n",
       "    <tr>\n",
       "      <th>0</th>\n",
       "      <td>5</td>\n",
       "      <td>3.35</td>\n",
       "      <td>5.59</td>\n",
       "      <td>27000</td>\n",
       "      <td>8</td>\n",
       "      <td>10</td>\n",
       "      <td>3</td>\n",
       "      <td>5</td>\n",
       "    </tr>\n",
       "    <tr>\n",
       "      <th>1</th>\n",
       "      <td>6</td>\n",
       "      <td>4.75</td>\n",
       "      <td>9.54</td>\n",
       "      <td>43000</td>\n",
       "      <td>10</td>\n",
       "      <td>10</td>\n",
       "      <td>3</td>\n",
       "      <td>5</td>\n",
       "    </tr>\n",
       "    <tr>\n",
       "      <th>2</th>\n",
       "      <td>2</td>\n",
       "      <td>7.25</td>\n",
       "      <td>9.85</td>\n",
       "      <td>6900</td>\n",
       "      <td>8</td>\n",
       "      <td>10</td>\n",
       "      <td>3</td>\n",
       "      <td>5</td>\n",
       "    </tr>\n",
       "    <tr>\n",
       "      <th>3</th>\n",
       "      <td>8</td>\n",
       "      <td>2.85</td>\n",
       "      <td>4.15</td>\n",
       "      <td>5200</td>\n",
       "      <td>8</td>\n",
       "      <td>10</td>\n",
       "      <td>3</td>\n",
       "      <td>5</td>\n",
       "    </tr>\n",
       "    <tr>\n",
       "      <th>4</th>\n",
       "      <td>5</td>\n",
       "      <td>4.60</td>\n",
       "      <td>6.87</td>\n",
       "      <td>42450</td>\n",
       "      <td>10</td>\n",
       "      <td>10</td>\n",
       "      <td>3</td>\n",
       "      <td>5</td>\n",
       "    </tr>\n",
       "    <tr>\n",
       "      <th>...</th>\n",
       "      <td>...</td>\n",
       "      <td>...</td>\n",
       "      <td>...</td>\n",
       "      <td>...</td>\n",
       "      <td>...</td>\n",
       "      <td>...</td>\n",
       "      <td>...</td>\n",
       "      <td>...</td>\n",
       "    </tr>\n",
       "    <tr>\n",
       "      <th>296</th>\n",
       "      <td>3</td>\n",
       "      <td>9.50</td>\n",
       "      <td>11.60</td>\n",
       "      <td>33988</td>\n",
       "      <td>10</td>\n",
       "      <td>10</td>\n",
       "      <td>3</td>\n",
       "      <td>5</td>\n",
       "    </tr>\n",
       "    <tr>\n",
       "      <th>297</th>\n",
       "      <td>4</td>\n",
       "      <td>4.00</td>\n",
       "      <td>5.90</td>\n",
       "      <td>60000</td>\n",
       "      <td>8</td>\n",
       "      <td>10</td>\n",
       "      <td>3</td>\n",
       "      <td>5</td>\n",
       "    </tr>\n",
       "    <tr>\n",
       "      <th>298</th>\n",
       "      <td>10</td>\n",
       "      <td>3.35</td>\n",
       "      <td>11.00</td>\n",
       "      <td>87934</td>\n",
       "      <td>8</td>\n",
       "      <td>10</td>\n",
       "      <td>3</td>\n",
       "      <td>5</td>\n",
       "    </tr>\n",
       "    <tr>\n",
       "      <th>299</th>\n",
       "      <td>2</td>\n",
       "      <td>11.50</td>\n",
       "      <td>12.50</td>\n",
       "      <td>9000</td>\n",
       "      <td>10</td>\n",
       "      <td>10</td>\n",
       "      <td>3</td>\n",
       "      <td>5</td>\n",
       "    </tr>\n",
       "    <tr>\n",
       "      <th>300</th>\n",
       "      <td>3</td>\n",
       "      <td>5.30</td>\n",
       "      <td>5.90</td>\n",
       "      <td>5464</td>\n",
       "      <td>8</td>\n",
       "      <td>10</td>\n",
       "      <td>3</td>\n",
       "      <td>5</td>\n",
       "    </tr>\n",
       "  </tbody>\n",
       "</table>\n",
       "<p>298 rows × 8 columns</p>\n",
       "</div>"
      ],
      "text/plain": [
       "     Age  Selling_Price  Present_Price  Kms_Driven  Fuel_Type  Seller_Type  \\\n",
       "0      5           3.35           5.59       27000          8           10   \n",
       "1      6           4.75           9.54       43000         10           10   \n",
       "2      2           7.25           9.85        6900          8           10   \n",
       "3      8           2.85           4.15        5200          8           10   \n",
       "4      5           4.60           6.87       42450         10           10   \n",
       "..   ...            ...            ...         ...        ...          ...   \n",
       "296    3           9.50          11.60       33988         10           10   \n",
       "297    4           4.00           5.90       60000          8           10   \n",
       "298   10           3.35          11.00       87934          8           10   \n",
       "299    2          11.50          12.50        9000         10           10   \n",
       "300    3           5.30           5.90        5464          8           10   \n",
       "\n",
       "     Transmission  Owner  \n",
       "0               3      5  \n",
       "1               3      5  \n",
       "2               3      5  \n",
       "3               3      5  \n",
       "4               3      5  \n",
       "..            ...    ...  \n",
       "296             3      5  \n",
       "297             3      5  \n",
       "298             3      5  \n",
       "299             3      5  \n",
       "300             3      5  \n",
       "\n",
       "[298 rows x 8 columns]"
      ]
     },
     "execution_count": 849,
     "metadata": {},
     "output_type": "execute_result"
    }
   ],
   "source": [
    "df5"
   ]
  },
  {
   "cell_type": "markdown",
   "id": "e79de9f5",
   "metadata": {},
   "source": [
    "### Making the initial model"
   ]
  },
  {
   "cell_type": "code",
   "execution_count": 850,
   "id": "e2e9b5f7",
   "metadata": {},
   "outputs": [],
   "source": [
    "x = pd.DataFrame(df5 , columns = ['Age','Present_Price','Kms_Driven','Fuel_Type','Seller_Type','Transmission','Owner'])\n",
    "y = df5['Selling_Price'].values.reshape(-1,1)"
   ]
  },
  {
   "cell_type": "code",
   "execution_count": 851,
   "id": "8235dd0f",
   "metadata": {},
   "outputs": [],
   "source": [
    "x_train, x_test, y_train, y_test = train_test_split(x,y, test_size = 0.2 , random_state = 0)"
   ]
  },
  {
   "cell_type": "code",
   "execution_count": 852,
   "id": "3eece655",
   "metadata": {},
   "outputs": [
    {
     "data": {
      "text/html": [
       "<style>#sk-container-id-16 {\n",
       "  /* Definition of color scheme common for light and dark mode */\n",
       "  --sklearn-color-text: black;\n",
       "  --sklearn-color-line: gray;\n",
       "  /* Definition of color scheme for unfitted estimators */\n",
       "  --sklearn-color-unfitted-level-0: #fff5e6;\n",
       "  --sklearn-color-unfitted-level-1: #f6e4d2;\n",
       "  --sklearn-color-unfitted-level-2: #ffe0b3;\n",
       "  --sklearn-color-unfitted-level-3: chocolate;\n",
       "  /* Definition of color scheme for fitted estimators */\n",
       "  --sklearn-color-fitted-level-0: #f0f8ff;\n",
       "  --sklearn-color-fitted-level-1: #d4ebff;\n",
       "  --sklearn-color-fitted-level-2: #b3dbfd;\n",
       "  --sklearn-color-fitted-level-3: cornflowerblue;\n",
       "\n",
       "  /* Specific color for light theme */\n",
       "  --sklearn-color-text-on-default-background: var(--sg-text-color, var(--theme-code-foreground, var(--jp-content-font-color1, black)));\n",
       "  --sklearn-color-background: var(--sg-background-color, var(--theme-background, var(--jp-layout-color0, white)));\n",
       "  --sklearn-color-border-box: var(--sg-text-color, var(--theme-code-foreground, var(--jp-content-font-color1, black)));\n",
       "  --sklearn-color-icon: #696969;\n",
       "\n",
       "  @media (prefers-color-scheme: dark) {\n",
       "    /* Redefinition of color scheme for dark theme */\n",
       "    --sklearn-color-text-on-default-background: var(--sg-text-color, var(--theme-code-foreground, var(--jp-content-font-color1, white)));\n",
       "    --sklearn-color-background: var(--sg-background-color, var(--theme-background, var(--jp-layout-color0, #111)));\n",
       "    --sklearn-color-border-box: var(--sg-text-color, var(--theme-code-foreground, var(--jp-content-font-color1, white)));\n",
       "    --sklearn-color-icon: #878787;\n",
       "  }\n",
       "}\n",
       "\n",
       "#sk-container-id-16 {\n",
       "  color: var(--sklearn-color-text);\n",
       "}\n",
       "\n",
       "#sk-container-id-16 pre {\n",
       "  padding: 0;\n",
       "}\n",
       "\n",
       "#sk-container-id-16 input.sk-hidden--visually {\n",
       "  border: 0;\n",
       "  clip: rect(1px 1px 1px 1px);\n",
       "  clip: rect(1px, 1px, 1px, 1px);\n",
       "  height: 1px;\n",
       "  margin: -1px;\n",
       "  overflow: hidden;\n",
       "  padding: 0;\n",
       "  position: absolute;\n",
       "  width: 1px;\n",
       "}\n",
       "\n",
       "#sk-container-id-16 div.sk-dashed-wrapped {\n",
       "  border: 1px dashed var(--sklearn-color-line);\n",
       "  margin: 0 0.4em 0.5em 0.4em;\n",
       "  box-sizing: border-box;\n",
       "  padding-bottom: 0.4em;\n",
       "  background-color: var(--sklearn-color-background);\n",
       "}\n",
       "\n",
       "#sk-container-id-16 div.sk-container {\n",
       "  /* jupyter's `normalize.less` sets `[hidden] { display: none; }`\n",
       "     but bootstrap.min.css set `[hidden] { display: none !important; }`\n",
       "     so we also need the `!important` here to be able to override the\n",
       "     default hidden behavior on the sphinx rendered scikit-learn.org.\n",
       "     See: https://github.com/scikit-learn/scikit-learn/issues/21755 */\n",
       "  display: inline-block !important;\n",
       "  position: relative;\n",
       "}\n",
       "\n",
       "#sk-container-id-16 div.sk-text-repr-fallback {\n",
       "  display: none;\n",
       "}\n",
       "\n",
       "div.sk-parallel-item,\n",
       "div.sk-serial,\n",
       "div.sk-item {\n",
       "  /* draw centered vertical line to link estimators */\n",
       "  background-image: linear-gradient(var(--sklearn-color-text-on-default-background), var(--sklearn-color-text-on-default-background));\n",
       "  background-size: 2px 100%;\n",
       "  background-repeat: no-repeat;\n",
       "  background-position: center center;\n",
       "}\n",
       "\n",
       "/* Parallel-specific style estimator block */\n",
       "\n",
       "#sk-container-id-16 div.sk-parallel-item::after {\n",
       "  content: \"\";\n",
       "  width: 100%;\n",
       "  border-bottom: 2px solid var(--sklearn-color-text-on-default-background);\n",
       "  flex-grow: 1;\n",
       "}\n",
       "\n",
       "#sk-container-id-16 div.sk-parallel {\n",
       "  display: flex;\n",
       "  align-items: stretch;\n",
       "  justify-content: center;\n",
       "  background-color: var(--sklearn-color-background);\n",
       "  position: relative;\n",
       "}\n",
       "\n",
       "#sk-container-id-16 div.sk-parallel-item {\n",
       "  display: flex;\n",
       "  flex-direction: column;\n",
       "}\n",
       "\n",
       "#sk-container-id-16 div.sk-parallel-item:first-child::after {\n",
       "  align-self: flex-end;\n",
       "  width: 50%;\n",
       "}\n",
       "\n",
       "#sk-container-id-16 div.sk-parallel-item:last-child::after {\n",
       "  align-self: flex-start;\n",
       "  width: 50%;\n",
       "}\n",
       "\n",
       "#sk-container-id-16 div.sk-parallel-item:only-child::after {\n",
       "  width: 0;\n",
       "}\n",
       "\n",
       "/* Serial-specific style estimator block */\n",
       "\n",
       "#sk-container-id-16 div.sk-serial {\n",
       "  display: flex;\n",
       "  flex-direction: column;\n",
       "  align-items: center;\n",
       "  background-color: var(--sklearn-color-background);\n",
       "  padding-right: 1em;\n",
       "  padding-left: 1em;\n",
       "}\n",
       "\n",
       "\n",
       "/* Toggleable style: style used for estimator/Pipeline/ColumnTransformer box that is\n",
       "clickable and can be expanded/collapsed.\n",
       "- Pipeline and ColumnTransformer use this feature and define the default style\n",
       "- Estimators will overwrite some part of the style using the `sk-estimator` class\n",
       "*/\n",
       "\n",
       "/* Pipeline and ColumnTransformer style (default) */\n",
       "\n",
       "#sk-container-id-16 div.sk-toggleable {\n",
       "  /* Default theme specific background. It is overwritten whether we have a\n",
       "  specific estimator or a Pipeline/ColumnTransformer */\n",
       "  background-color: var(--sklearn-color-background);\n",
       "}\n",
       "\n",
       "/* Toggleable label */\n",
       "#sk-container-id-16 label.sk-toggleable__label {\n",
       "  cursor: pointer;\n",
       "  display: block;\n",
       "  width: 100%;\n",
       "  margin-bottom: 0;\n",
       "  padding: 0.5em;\n",
       "  box-sizing: border-box;\n",
       "  text-align: center;\n",
       "}\n",
       "\n",
       "#sk-container-id-16 label.sk-toggleable__label-arrow:before {\n",
       "  /* Arrow on the left of the label */\n",
       "  content: \"▸\";\n",
       "  float: left;\n",
       "  margin-right: 0.25em;\n",
       "  color: var(--sklearn-color-icon);\n",
       "}\n",
       "\n",
       "#sk-container-id-16 label.sk-toggleable__label-arrow:hover:before {\n",
       "  color: var(--sklearn-color-text);\n",
       "}\n",
       "\n",
       "/* Toggleable content - dropdown */\n",
       "\n",
       "#sk-container-id-16 div.sk-toggleable__content {\n",
       "  max-height: 0;\n",
       "  max-width: 0;\n",
       "  overflow: hidden;\n",
       "  text-align: left;\n",
       "  /* unfitted */\n",
       "  background-color: var(--sklearn-color-unfitted-level-0);\n",
       "}\n",
       "\n",
       "#sk-container-id-16 div.sk-toggleable__content.fitted {\n",
       "  /* fitted */\n",
       "  background-color: var(--sklearn-color-fitted-level-0);\n",
       "}\n",
       "\n",
       "#sk-container-id-16 div.sk-toggleable__content pre {\n",
       "  margin: 0.2em;\n",
       "  border-radius: 0.25em;\n",
       "  color: var(--sklearn-color-text);\n",
       "  /* unfitted */\n",
       "  background-color: var(--sklearn-color-unfitted-level-0);\n",
       "}\n",
       "\n",
       "#sk-container-id-16 div.sk-toggleable__content.fitted pre {\n",
       "  /* unfitted */\n",
       "  background-color: var(--sklearn-color-fitted-level-0);\n",
       "}\n",
       "\n",
       "#sk-container-id-16 input.sk-toggleable__control:checked~div.sk-toggleable__content {\n",
       "  /* Expand drop-down */\n",
       "  max-height: 200px;\n",
       "  max-width: 100%;\n",
       "  overflow: auto;\n",
       "}\n",
       "\n",
       "#sk-container-id-16 input.sk-toggleable__control:checked~label.sk-toggleable__label-arrow:before {\n",
       "  content: \"▾\";\n",
       "}\n",
       "\n",
       "/* Pipeline/ColumnTransformer-specific style */\n",
       "\n",
       "#sk-container-id-16 div.sk-label input.sk-toggleable__control:checked~label.sk-toggleable__label {\n",
       "  color: var(--sklearn-color-text);\n",
       "  background-color: var(--sklearn-color-unfitted-level-2);\n",
       "}\n",
       "\n",
       "#sk-container-id-16 div.sk-label.fitted input.sk-toggleable__control:checked~label.sk-toggleable__label {\n",
       "  background-color: var(--sklearn-color-fitted-level-2);\n",
       "}\n",
       "\n",
       "/* Estimator-specific style */\n",
       "\n",
       "/* Colorize estimator box */\n",
       "#sk-container-id-16 div.sk-estimator input.sk-toggleable__control:checked~label.sk-toggleable__label {\n",
       "  /* unfitted */\n",
       "  background-color: var(--sklearn-color-unfitted-level-2);\n",
       "}\n",
       "\n",
       "#sk-container-id-16 div.sk-estimator.fitted input.sk-toggleable__control:checked~label.sk-toggleable__label {\n",
       "  /* fitted */\n",
       "  background-color: var(--sklearn-color-fitted-level-2);\n",
       "}\n",
       "\n",
       "#sk-container-id-16 div.sk-label label.sk-toggleable__label,\n",
       "#sk-container-id-16 div.sk-label label {\n",
       "  /* The background is the default theme color */\n",
       "  color: var(--sklearn-color-text-on-default-background);\n",
       "}\n",
       "\n",
       "/* On hover, darken the color of the background */\n",
       "#sk-container-id-16 div.sk-label:hover label.sk-toggleable__label {\n",
       "  color: var(--sklearn-color-text);\n",
       "  background-color: var(--sklearn-color-unfitted-level-2);\n",
       "}\n",
       "\n",
       "/* Label box, darken color on hover, fitted */\n",
       "#sk-container-id-16 div.sk-label.fitted:hover label.sk-toggleable__label.fitted {\n",
       "  color: var(--sklearn-color-text);\n",
       "  background-color: var(--sklearn-color-fitted-level-2);\n",
       "}\n",
       "\n",
       "/* Estimator label */\n",
       "\n",
       "#sk-container-id-16 div.sk-label label {\n",
       "  font-family: monospace;\n",
       "  font-weight: bold;\n",
       "  display: inline-block;\n",
       "  line-height: 1.2em;\n",
       "}\n",
       "\n",
       "#sk-container-id-16 div.sk-label-container {\n",
       "  text-align: center;\n",
       "}\n",
       "\n",
       "/* Estimator-specific */\n",
       "#sk-container-id-16 div.sk-estimator {\n",
       "  font-family: monospace;\n",
       "  border: 1px dotted var(--sklearn-color-border-box);\n",
       "  border-radius: 0.25em;\n",
       "  box-sizing: border-box;\n",
       "  margin-bottom: 0.5em;\n",
       "  /* unfitted */\n",
       "  background-color: var(--sklearn-color-unfitted-level-0);\n",
       "}\n",
       "\n",
       "#sk-container-id-16 div.sk-estimator.fitted {\n",
       "  /* fitted */\n",
       "  background-color: var(--sklearn-color-fitted-level-0);\n",
       "}\n",
       "\n",
       "/* on hover */\n",
       "#sk-container-id-16 div.sk-estimator:hover {\n",
       "  /* unfitted */\n",
       "  background-color: var(--sklearn-color-unfitted-level-2);\n",
       "}\n",
       "\n",
       "#sk-container-id-16 div.sk-estimator.fitted:hover {\n",
       "  /* fitted */\n",
       "  background-color: var(--sklearn-color-fitted-level-2);\n",
       "}\n",
       "\n",
       "/* Specification for estimator info (e.g. \"i\" and \"?\") */\n",
       "\n",
       "/* Common style for \"i\" and \"?\" */\n",
       "\n",
       ".sk-estimator-doc-link,\n",
       "a:link.sk-estimator-doc-link,\n",
       "a:visited.sk-estimator-doc-link {\n",
       "  float: right;\n",
       "  font-size: smaller;\n",
       "  line-height: 1em;\n",
       "  font-family: monospace;\n",
       "  background-color: var(--sklearn-color-background);\n",
       "  border-radius: 1em;\n",
       "  height: 1em;\n",
       "  width: 1em;\n",
       "  text-decoration: none !important;\n",
       "  margin-left: 1ex;\n",
       "  /* unfitted */\n",
       "  border: var(--sklearn-color-unfitted-level-1) 1pt solid;\n",
       "  color: var(--sklearn-color-unfitted-level-1);\n",
       "}\n",
       "\n",
       ".sk-estimator-doc-link.fitted,\n",
       "a:link.sk-estimator-doc-link.fitted,\n",
       "a:visited.sk-estimator-doc-link.fitted {\n",
       "  /* fitted */\n",
       "  border: var(--sklearn-color-fitted-level-1) 1pt solid;\n",
       "  color: var(--sklearn-color-fitted-level-1);\n",
       "}\n",
       "\n",
       "/* On hover */\n",
       "div.sk-estimator:hover .sk-estimator-doc-link:hover,\n",
       ".sk-estimator-doc-link:hover,\n",
       "div.sk-label-container:hover .sk-estimator-doc-link:hover,\n",
       ".sk-estimator-doc-link:hover {\n",
       "  /* unfitted */\n",
       "  background-color: var(--sklearn-color-unfitted-level-3);\n",
       "  color: var(--sklearn-color-background);\n",
       "  text-decoration: none;\n",
       "}\n",
       "\n",
       "div.sk-estimator.fitted:hover .sk-estimator-doc-link.fitted:hover,\n",
       ".sk-estimator-doc-link.fitted:hover,\n",
       "div.sk-label-container:hover .sk-estimator-doc-link.fitted:hover,\n",
       ".sk-estimator-doc-link.fitted:hover {\n",
       "  /* fitted */\n",
       "  background-color: var(--sklearn-color-fitted-level-3);\n",
       "  color: var(--sklearn-color-background);\n",
       "  text-decoration: none;\n",
       "}\n",
       "\n",
       "/* Span, style for the box shown on hovering the info icon */\n",
       ".sk-estimator-doc-link span {\n",
       "  display: none;\n",
       "  z-index: 9999;\n",
       "  position: relative;\n",
       "  font-weight: normal;\n",
       "  right: .2ex;\n",
       "  padding: .5ex;\n",
       "  margin: .5ex;\n",
       "  width: min-content;\n",
       "  min-width: 20ex;\n",
       "  max-width: 50ex;\n",
       "  color: var(--sklearn-color-text);\n",
       "  box-shadow: 2pt 2pt 4pt #999;\n",
       "  /* unfitted */\n",
       "  background: var(--sklearn-color-unfitted-level-0);\n",
       "  border: .5pt solid var(--sklearn-color-unfitted-level-3);\n",
       "}\n",
       "\n",
       ".sk-estimator-doc-link.fitted span {\n",
       "  /* fitted */\n",
       "  background: var(--sklearn-color-fitted-level-0);\n",
       "  border: var(--sklearn-color-fitted-level-3);\n",
       "}\n",
       "\n",
       ".sk-estimator-doc-link:hover span {\n",
       "  display: block;\n",
       "}\n",
       "\n",
       "/* \"?\"-specific style due to the `<a>` HTML tag */\n",
       "\n",
       "#sk-container-id-16 a.estimator_doc_link {\n",
       "  float: right;\n",
       "  font-size: 1rem;\n",
       "  line-height: 1em;\n",
       "  font-family: monospace;\n",
       "  background-color: var(--sklearn-color-background);\n",
       "  border-radius: 1rem;\n",
       "  height: 1rem;\n",
       "  width: 1rem;\n",
       "  text-decoration: none;\n",
       "  /* unfitted */\n",
       "  color: var(--sklearn-color-unfitted-level-1);\n",
       "  border: var(--sklearn-color-unfitted-level-1) 1pt solid;\n",
       "}\n",
       "\n",
       "#sk-container-id-16 a.estimator_doc_link.fitted {\n",
       "  /* fitted */\n",
       "  border: var(--sklearn-color-fitted-level-1) 1pt solid;\n",
       "  color: var(--sklearn-color-fitted-level-1);\n",
       "}\n",
       "\n",
       "/* On hover */\n",
       "#sk-container-id-16 a.estimator_doc_link:hover {\n",
       "  /* unfitted */\n",
       "  background-color: var(--sklearn-color-unfitted-level-3);\n",
       "  color: var(--sklearn-color-background);\n",
       "  text-decoration: none;\n",
       "}\n",
       "\n",
       "#sk-container-id-16 a.estimator_doc_link.fitted:hover {\n",
       "  /* fitted */\n",
       "  background-color: var(--sklearn-color-fitted-level-3);\n",
       "}\n",
       "</style><div id=\"sk-container-id-16\" class=\"sk-top-container\"><div class=\"sk-text-repr-fallback\"><pre>LinearRegression()</pre><b>In a Jupyter environment, please rerun this cell to show the HTML representation or trust the notebook. <br />On GitHub, the HTML representation is unable to render, please try loading this page with nbviewer.org.</b></div><div class=\"sk-container\" hidden><div class=\"sk-item\"><div class=\"sk-estimator fitted sk-toggleable\"><input class=\"sk-toggleable__control sk-hidden--visually\" id=\"sk-estimator-id-16\" type=\"checkbox\" checked><label for=\"sk-estimator-id-16\" class=\"sk-toggleable__label fitted sk-toggleable__label-arrow fitted\">&nbsp;&nbsp;LinearRegression<a class=\"sk-estimator-doc-link fitted\" rel=\"noreferrer\" target=\"_blank\" href=\"https://scikit-learn.org/1.4/modules/generated/sklearn.linear_model.LinearRegression.html\">?<span>Documentation for LinearRegression</span></a><span class=\"sk-estimator-doc-link fitted\">i<span>Fitted</span></span></label><div class=\"sk-toggleable__content fitted\"><pre>LinearRegression()</pre></div> </div></div></div></div>"
      ],
      "text/plain": [
       "LinearRegression()"
      ]
     },
     "execution_count": 852,
     "metadata": {},
     "output_type": "execute_result"
    }
   ],
   "source": [
    "regressor = LinearRegression()\n",
    "regressor.fit(x_train, y_train)"
   ]
  },
  {
   "cell_type": "code",
   "execution_count": 853,
   "id": "ba8a05a3",
   "metadata": {},
   "outputs": [],
   "source": [
    "y_pred = regressor.predict(x_test)"
   ]
  },
  {
   "cell_type": "code",
   "execution_count": 854,
   "id": "ae141826",
   "metadata": {},
   "outputs": [
    {
     "data": {
      "image/png": "[encoded data removed]",
      "text/plain": [
       "<Figure size 640x480 with 1 Axes>"
      ]
     },
     "metadata": {},
     "output_type": "display_data"
    }
   ],
   "source": [
    "a = x_test.Present_Price\n",
    "b = y_test\n",
    "c = x_test.Present_Price\n",
    "d = y_pred\n",
    "plt.xlabel('Present Price')\n",
    "plt.ylabel('Selling Price')\n",
    "plt.scatter(a , b)\n",
    "plt.scatter(c , d , color = 'red')\n",
    "plt.show()"
   ]
  },
  {
   "cell_type": "code",
   "execution_count": 855,
   "id": "f3c3ea43",
   "metadata": {},
   "outputs": [
    {
     "name": "stdout",
     "output_type": "stream",
     "text": [
      "Mean Absolute Error :  0.9372395499701511\n",
      "Mean Squared Error :  1.469118781024335\n",
      "Root mean Absolute Error :  0.9681113313922893\n",
      "R2 Score :  0.9334118210784318\n"
     ]
    }
   ],
   "source": [
    "print('Mean Absolute Error : ' , metrics.mean_absolute_error(y_test,y_pred))\n",
    "print('Mean Squared Error : ' , metrics.mean_squared_error(y_test,y_pred))\n",
    "print('Root mean Absolute Error : ' , np.sqrt(metrics.mean_absolute_error(y_test,y_pred)))\n",
    "print('R2 Score : ' , metrics.r2_score(y_test,y_pred))"
   ]
  },
  {
   "cell_type": "markdown",
   "id": "c4729d01",
   "metadata": {},
   "source": [
    "### Testing with cross validation and correlation"
   ]
  },
  {
   "cell_type": "code",
   "execution_count": 856,
   "id": "a27a2417",
   "metadata": {},
   "outputs": [],
   "source": [
    "###   Cross Validation:"
   ]
  },
  {
   "cell_type": "code",
   "execution_count": 857,
   "id": "bb513bbe",
   "metadata": {},
   "outputs": [],
   "source": [
    "from sklearn.model_selection import KFold\n",
    "from sklearn.model_selection import cross_val_score"
   ]
  },
  {
   "cell_type": "code",
   "execution_count": 858,
   "id": "2691db00",
   "metadata": {},
   "outputs": [
    {
     "name": "stdout",
     "output_type": "stream",
     "text": [
      "--------------------------------------------------------------------------------\n",
      "k-fold: 4\n",
      "[0.88142687 0.82412897 0.19205596 0.81220066]\n",
      "0.677453113421506\n",
      "--------------------------------------------------------------------------------\n",
      "k-fold: 5\n",
      "[  0.89265744   0.81748285 -77.4011946    0.62969649   0.8498888 ]\n",
      "-14.842293804420796\n",
      "--------------------------------------------------------------------------------\n",
      "k-fold: 6\n",
      "[  0.72621089   0.68350881 -14.79096329 -14.65062028   0.80231832\n",
      "   0.87055743]\n",
      "-4.393164686126834\n",
      "--------------------------------------------------------------------------------\n",
      "k-fold: 7\n",
      "[ 6.97046783e-01  8.20122701e-01  8.40369936e-01 -1.72771254e+02\n",
      " -6.09274752e-02  8.08422362e-01  8.70361071e-01]\n",
      "-24.113694126214803\n",
      "--------------------------------------------------------------------------------\n",
      "k-fold: 8\n",
      "[   0.69659481    0.89110386    0.78183918  -21.67110021 -274.58344563\n",
      "    0.4648337     0.80525964    0.87283442]\n",
      "-36.46776002908112\n",
      "--------------------------------------------------------------------------------\n",
      "k-fold: 9\n",
      "[   0.80954558    0.90715061    0.68915575  -22.80787566 -237.05436774\n",
      "  -40.88433773    0.80580292    0.84064329    0.86945655]\n",
      "-32.869425158507084\n",
      "--------------------------------------------------------------------------------\n",
      "k-fold: 10\n",
      "[ 8.44368833e-01  9.02167976e-01  7.67818353e-01  8.56966212e-01\n",
      " -5.03350427e+01 -5.34544039e+02  4.03799631e-01  8.02649816e-01\n",
      "  8.56043845e-01  8.62868830e-01]\n",
      "-57.85823977148922\n"
     ]
    }
   ],
   "source": [
    "model_new = LinearRegression()\n",
    "for i in range(4,11):\n",
    "    print('-'*80)\n",
    "    print(f'k-fold: {i}')\n",
    "    kfold_validation = KFold(i)\n",
    "    results = cross_val_score(model_new, x, y, cv = kfold_validation)\n",
    "    print(results)\n",
    "    print(np.mean(results))"
   ]
  },
  {
   "cell_type": "code",
   "execution_count": 859,
   "id": "54a454c9",
   "metadata": {},
   "outputs": [],
   "source": [
    "###   Correlation:"
   ]
  },
  {
   "cell_type": "code",
   "execution_count": 860,
   "id": "8b6ebcf9",
   "metadata": {},
   "outputs": [
    {
     "data": {
      "text/plain": [
       "array([[ 1.        , -0.27254563],\n",
       "       [-0.27254563,  1.        ]])"
      ]
     },
     "execution_count": 860,
     "metadata": {},
     "output_type": "execute_result"
    }
   ],
   "source": [
    "comp1 = np.corrcoef(df5.Age , df5.Selling_Price)\n",
    "comp1"
   ]
  },
  {
   "cell_type": "code",
   "execution_count": 861,
   "id": "3237f0e5",
   "metadata": {},
   "outputs": [
    {
     "data": {
      "text/plain": [
       "array([[1.        , 0.89266942],\n",
       "       [0.89266942, 1.        ]])"
      ]
     },
     "execution_count": 861,
     "metadata": {},
     "output_type": "execute_result"
    }
   ],
   "source": [
    "comp2 = np.corrcoef(df5.Present_Price , df5.Selling_Price)\n",
    "comp2"
   ]
  },
  {
   "cell_type": "code",
   "execution_count": 862,
   "id": "974dd0c8",
   "metadata": {},
   "outputs": [
    {
     "data": {
      "text/plain": [
       "array([[1.        , 0.03047868],\n",
       "       [0.03047868, 1.        ]])"
      ]
     },
     "execution_count": 862,
     "metadata": {},
     "output_type": "execute_result"
    }
   ],
   "source": [
    "comp3 = np.corrcoef(df5.Kms_Driven , df5.Selling_Price)\n",
    "comp3"
   ]
  },
  {
   "cell_type": "code",
   "execution_count": 863,
   "id": "8c84c998",
   "metadata": {},
   "outputs": [
    {
     "data": {
      "text/plain": [
       "array([[1.        , 0.52313583],\n",
       "       [0.52313583, 1.        ]])"
      ]
     },
     "execution_count": 863,
     "metadata": {},
     "output_type": "execute_result"
    }
   ],
   "source": [
    "comp4 = np.corrcoef(df5.Fuel_Type , df5.Selling_Price)\n",
    "comp4"
   ]
  },
  {
   "cell_type": "code",
   "execution_count": 864,
   "id": "270f5a82",
   "metadata": {},
   "outputs": [
    {
     "data": {
      "text/plain": [
       "array([[1.        , 0.59385993],\n",
       "       [0.59385993, 1.        ]])"
      ]
     },
     "execution_count": 864,
     "metadata": {},
     "output_type": "execute_result"
    }
   ],
   "source": [
    "comp5 = np.corrcoef(df5.Seller_Type , df5.Selling_Price)\n",
    "comp5"
   ]
  },
  {
   "cell_type": "code",
   "execution_count": 865,
   "id": "0b9cbb6c",
   "metadata": {},
   "outputs": [
    {
     "data": {
      "text/plain": [
       "array([[1.        , 0.38387433],\n",
       "       [0.38387433, 1.        ]])"
      ]
     },
     "execution_count": 865,
     "metadata": {},
     "output_type": "execute_result"
    }
   ],
   "source": [
    "comp6 = np.corrcoef(df5.Transmission , df5.Selling_Price)\n",
    "comp6"
   ]
  },
  {
   "cell_type": "code",
   "execution_count": 866,
   "id": "7711f475",
   "metadata": {},
   "outputs": [
    {
     "data": {
      "text/plain": [
       "array([[1.        , 0.10378701],\n",
       "       [0.10378701, 1.        ]])"
      ]
     },
     "execution_count": 866,
     "metadata": {},
     "output_type": "execute_result"
    }
   ],
   "source": [
    "comp7 = np.corrcoef(df5.Owner , df5.Selling_Price)\n",
    "comp7"
   ]
  },
  {
   "cell_type": "code",
   "execution_count": 867,
   "id": "a06108fc",
   "metadata": {},
   "outputs": [],
   "source": [
    "###   Therefore, the most important features:\n",
    "# 1. Present_Price\n",
    "# 2. Seller_Type\n",
    "# 3. Fuel_Type\n",
    "# 4. Transmission\n",
    "# 5. Age (-)\n",
    "# 6. Owner\n",
    "# 7. Kms_Driven"
   ]
  },
  {
   "cell_type": "markdown",
   "id": "beb03a21",
   "metadata": {},
   "source": [
    "########################   End of testing with cross validation & correlation   ########################"
   ]
  },
  {
   "cell_type": "markdown",
   "id": "c78848cc",
   "metadata": {},
   "source": [
    "### Model analysis"
   ]
  },
  {
   "cell_type": "code",
   "execution_count": 868,
   "id": "5c7a9dbd",
   "metadata": {},
   "outputs": [
    {
     "name": "stdout",
     "output_type": "stream",
     "text": [
      "Mean Absolute Error :  0.9372395499701511\n",
      "Mean Squared Error :  1.469118781024335\n",
      "Root mean Absolute Error :  0.9681113313922893\n",
      "R2 Score :  0.9334118210784318\n"
     ]
    }
   ],
   "source": [
    "print('Mean Absolute Error : ' , metrics.mean_absolute_error(y_test,y_pred))\n",
    "print('Mean Squared Error : ' , metrics.mean_squared_error(y_test,y_pred))\n",
    "print('Root mean Absolute Error : ' , np.sqrt(metrics.mean_absolute_error(y_test,y_pred)))\n",
    "print('R2 Score : ' , metrics.r2_score(y_test,y_pred))"
   ]
  },
  {
   "cell_type": "code",
   "execution_count": 869,
   "id": "99646b87",
   "metadata": {},
   "outputs": [],
   "source": [
    "x_test_review = x_test.copy()\n",
    "x_test_review.insert(7, 'y_test', y_test)\n",
    "x_test_review.insert(8, 'y_pred', y_pred)"
   ]
  },
  {
   "cell_type": "code",
   "execution_count": 870,
   "id": "a47f1e94",
   "metadata": {},
   "outputs": [],
   "source": [
    "df_review = x_test_review.sort_values(by = ['Kms_Driven'])"
   ]
  },
  {
   "cell_type": "code",
   "execution_count": 871,
   "id": "cc3162a1",
   "metadata": {},
   "outputs": [
    {
     "data": {
      "image/png": "[encoded data removed]",
      "text/plain": [
       "<Figure size 1200x400 with 1 Axes>"
      ]
     },
     "metadata": {},
     "output_type": "display_data"
    }
   ],
   "source": [
    "a = df_review.Kms_Driven\n",
    "b = df_review.y_test\n",
    "c = df_review.Kms_Driven\n",
    "d = df_review.y_pred\n",
    "plt.figure(figsize = (12,4))\n",
    "plt.xlabel('Kms Driven')\n",
    "plt.ylabel('Selling Price')\n",
    "plt.scatter(a , b)\n",
    "plt.plot(c , d , color = 'red')\n",
    "plt.show()"
   ]
  },
  {
   "cell_type": "code",
   "execution_count": 872,
   "id": "06d2aa65",
   "metadata": {},
   "outputs": [],
   "source": [
    "df_review = x_test_review.sort_values(by = ['Present_Price'])"
   ]
  },
  {
   "cell_type": "code",
   "execution_count": 873,
   "id": "ed4f4035",
   "metadata": {},
   "outputs": [
    {
     "data": {
      "image/png": "[encoded data removed]",
      "text/plain": [
       "<Figure size 1200x300 with 1 Axes>"
      ]
     },
     "metadata": {},
     "output_type": "display_data"
    }
   ],
   "source": [
    "a = df_review.Present_Price\n",
    "b = df_review.y_test\n",
    "c = df_review.Present_Price\n",
    "d = df_review.y_pred\n",
    "plt.figure(figsize = (12,3))\n",
    "plt.xlabel('Present Price')\n",
    "plt.ylabel('Selling Price')\n",
    "plt.scatter(a , b)\n",
    "plt.plot(c , d , color = 'red')\n",
    "plt.show()"
   ]
  },
  {
   "cell_type": "code",
   "execution_count": 874,
   "id": "60a5f7fd",
   "metadata": {},
   "outputs": [
    {
     "data": {
      "text/plain": [
       "Text(0, 0.5, 'Prediction')"
      ]
     },
     "execution_count": 874,
     "metadata": {},
     "output_type": "execute_result"
    },
    {
     "data": {
      "image/png": "[encoded data removed]",
      "text/plain": [
       "<Figure size 640x480 with 1 Axes>"
      ]
     },
     "metadata": {},
     "output_type": "display_data"
    }
   ],
   "source": [
    "plt.scatter(y_test, y_pred)\n",
    "plt.plot([0,25], [0,25], color='red')\n",
    "plt.grid()\n",
    "plt.xlabel('Test')\n",
    "plt.ylabel('Prediction')"
   ]
  },
  {
   "cell_type": "markdown",
   "id": "274e6a53",
   "metadata": {},
   "source": [
    "### Testing with changing the percentage of test and train"
   ]
  },
  {
   "cell_type": "code",
   "execution_count": 875,
   "id": "bc5c145f",
   "metadata": {},
   "outputs": [],
   "source": [
    "regressor_review = LinearRegression()"
   ]
  },
  {
   "cell_type": "code",
   "execution_count": 876,
   "id": "e735f26e",
   "metadata": {},
   "outputs": [
    {
     "name": "stdout",
     "output_type": "stream",
     "text": [
      "Mean Absolute Error :  0.9372395499701511\n",
      "Mean Squared Error :  1.469118781024335\n",
      "Root mean Absolute Error :  0.9681113313922893\n",
      "R2 Score :  0.9334118210784318\n"
     ]
    }
   ],
   "source": [
    "print('Mean Absolute Error : ' , metrics.mean_absolute_error(y_test,y_pred))\n",
    "print('Mean Squared Error : ' , metrics.mean_squared_error(y_test,y_pred))\n",
    "print('Root mean Absolute Error : ' , np.sqrt(metrics.mean_absolute_error(y_test,y_pred)))\n",
    "print('R2 Score : ' , metrics.r2_score(y_test,y_pred))"
   ]
  },
  {
   "cell_type": "code",
   "execution_count": 877,
   "id": "8dd8c6b5",
   "metadata": {},
   "outputs": [
    {
     "name": "stdout",
     "output_type": "stream",
     "text": [
      "Mean Absolute Error :  1.0468660750309948\n",
      "Mean Squared Error :  2.1637082596716724\n",
      "Root mean Absolute Error :  1.0231647350407436\n",
      "R2 Score :  0.9128976520535541\n"
     ]
    }
   ],
   "source": [
    "########################   Testing with 70% train   ########################\n",
    "x_train_review, x_test_review, y_train_review, y_test_review = train_test_split(x,y, test_size = 0.3 , random_state = 0)\n",
    "regressor_review.fit(x_train_review, y_train_review)\n",
    "y_pred_review = regressor.predict(x_test_review)\n",
    "###   Check with evaluations\n",
    "print('Mean Absolute Error : ' , metrics.mean_absolute_error(y_test_review,y_pred_review))\n",
    "print('Mean Squared Error : ' , metrics.mean_squared_error(y_test_review,y_pred_review))\n",
    "print('Root mean Absolute Error : ' , np.sqrt(metrics.mean_absolute_error(y_test_review,y_pred_review)))\n",
    "print('R2 Score : ' , metrics.r2_score(y_test_review,y_pred_review))"
   ]
  },
  {
   "cell_type": "code",
   "execution_count": 878,
   "id": "873d9828",
   "metadata": {},
   "outputs": [
    {
     "name": "stdout",
     "output_type": "stream",
     "text": [
      "Mean Absolute Error :  1.0507514283155994\n",
      "Mean Squared Error :  1.824953834285492\n",
      "Root mean Absolute Error :  1.0250616704938291\n",
      "R2 Score :  0.9284896188373731\n"
     ]
    }
   ],
   "source": [
    "########################   Testing with 90% train   ########################\n",
    "x_train_review, x_test_review, y_train_review, y_test_review = train_test_split(x,y, test_size = 0.1 , random_state = 0)\n",
    "regressor_review.fit(x_train_review, y_train_review)\n",
    "y_pred_review = regressor_review.predict(x_test_review)\n",
    "###   Check with evaluations\n",
    "print('Mean Absolute Error : ' , metrics.mean_absolute_error(y_test_review,y_pred_review))\n",
    "print('Mean Squared Error : ' , metrics.mean_squared_error(y_test_review,y_pred_review))\n",
    "print('Root mean Absolute Error : ' , np.sqrt(metrics.mean_absolute_error(y_test_review,y_pred_review)))\n",
    "print('R2 Score : ' , metrics.r2_score(y_test_review,y_pred_review))"
   ]
  },
  {
   "cell_type": "markdown",
   "id": "8ee97d87",
   "metadata": {},
   "source": [
    "########################   Result: We use 80% of the data for train.   ########################"
   ]
  },
  {
   "cell_type": "markdown",
   "id": "776306e2",
   "metadata": {},
   "source": [
    "### Testing with increasing the parameter"
   ]
  },
  {
   "cell_type": "code",
   "execution_count": 879,
   "id": "21f9c626",
   "metadata": {},
   "outputs": [],
   "source": [
    "regressor_review = LinearRegression()"
   ]
  },
  {
   "cell_type": "code",
   "execution_count": 880,
   "id": "be372977",
   "metadata": {},
   "outputs": [],
   "source": [
    "###   the most important features (correlation results):\n",
    "# 1. Present_Price\n",
    "# 2. Seller_Type\n",
    "# 3. Fuel_Type\n",
    "# 4. Transmission\n",
    "# 5. Age (-)\n",
    "# 6. Owner\n",
    "# 7. Kms_Driven"
   ]
  },
  {
   "cell_type": "code",
   "execution_count": 881,
   "id": "b5c2513a",
   "metadata": {},
   "outputs": [
    {
     "name": "stdout",
     "output_type": "stream",
     "text": [
      "[-3.95521604]\n",
      "[[-3.87900693e-01  5.03778988e-01 -3.96094133e-06  6.32634056e-01\n",
      "   8.72423313e-02  3.63358067e-01 -1.52619696e-02]]\n"
     ]
    }
   ],
   "source": [
    "print(regressor.intercept_)\n",
    "print(regressor.coef_)"
   ]
  },
  {
   "cell_type": "code",
   "execution_count": 882,
   "id": "15882831",
   "metadata": {},
   "outputs": [
    {
     "name": "stdout",
     "output_type": "stream",
     "text": [
      "Mean Absolute Error :  0.9372395499701511\n",
      "Mean Squared Error :  1.469118781024335\n",
      "R2 Score :  0.9334118210784318\n"
     ]
    }
   ],
   "source": [
    "print('Mean Absolute Error : ' , metrics.mean_absolute_error(y_test,y_pred))\n",
    "print('Mean Squared Error : ' , metrics.mean_squared_error(y_test,y_pred))\n",
    "print('R2 Score : ' , metrics.r2_score(y_test,y_pred))"
   ]
  },
  {
   "cell_type": "markdown",
   "id": "1c680327",
   "metadata": {},
   "source": [
    "#### Present_Price"
   ]
  },
  {
   "cell_type": "code",
   "execution_count": 883,
   "id": "038fe212",
   "metadata": {},
   "outputs": [
    {
     "name": "stdout",
     "output_type": "stream",
     "text": [
      "--------------- Present_Price ---------------\n",
      "\n",
      "===> T = 2\n",
      "Mean Absolute Error :  0.9364270522877614\n",
      "Mean Squared Error :  1.4678616759443919\n",
      "R2 Score :  0.9334687996829311\n",
      "\n",
      "===> T = 3\n",
      "Mean Absolute Error :  0.9365495101727479\n",
      "Mean Squared Error :  1.4676425609119053\n",
      "R2 Score :  0.9334787311269886\n",
      "\n",
      "===> T = 4\n",
      "Mean Absolute Error :  0.9373112320199173\n",
      "Mean Squared Error :  1.4693975599716702\n",
      "R2 Score :  0.9333991853524003\n",
      "\n",
      "===> T = 5\n",
      "Mean Absolute Error :  0.9380586896504791\n",
      "Mean Squared Error :  1.4751097420613992\n",
      "R2 Score :  0.9331402792598935\n",
      "\n",
      "===> T = 6\n",
      "Mean Absolute Error :  0.9386117455581233\n",
      "Mean Squared Error :  1.4866361991656452\n",
      "R2 Score :  0.9326178396873396\n",
      "\n",
      "===> T = 7\n",
      "Mean Absolute Error :  0.938945458917361\n",
      "Mean Squared Error :  1.503959938173903\n",
      "R2 Score :  0.9318326368517539\n"
     ]
    }
   ],
   "source": [
    "print('--------------- Present_Price ---------------')\n",
    "for i in range(2,8):\n",
    "    print(f'\\n===> T = {i}')\n",
    "    x_review = x.copy()\n",
    "    x_review.insert(7, f'Present_Price_T{i}', (x_review['Present_Price'])**i)\n",
    "\n",
    "    x_train_review, x_test_review, y_train_review, y_test_review = train_test_split(x_review,y, test_size = 0.2 , random_state = 0)\n",
    "\n",
    "    regressor_review.fit(x_train_review, y_train_review)\n",
    "    y_pred_review = regressor_review.predict(x_test_review)\n",
    "\n",
    "\n",
    "    print('Mean Absolute Error : ' , metrics.mean_absolute_error(y_test_review,y_pred_review))\n",
    "    print('Mean Squared Error : ' , metrics.mean_squared_error(y_test_review,y_pred_review))\n",
    "    print('R2 Score : ' , metrics.r2_score(y_test_review,y_pred_review))"
   ]
  },
  {
   "cell_type": "code",
   "execution_count": 884,
   "id": "6ab9c25b",
   "metadata": {},
   "outputs": [],
   "source": [
    "### Result:\n",
    "### Without creating a new parameter"
   ]
  },
  {
   "cell_type": "markdown",
   "id": "1cb9353a",
   "metadata": {},
   "source": [
    "#### Age"
   ]
  },
  {
   "cell_type": "code",
   "execution_count": 885,
   "id": "47c418bf",
   "metadata": {},
   "outputs": [
    {
     "data": {
      "image/png": "[encoded data removed]",
      "text/plain": [
       "<Figure size 640x480 with 1 Axes>"
      ]
     },
     "metadata": {},
     "output_type": "display_data"
    }
   ],
   "source": [
    "plt.scatter(df5['Age'] , df5['Selling_Price'])\n",
    "plt.plot(np.array(range(0,26)) , (10/(0.28*(np.array(range(0,26)))+0.4)-0.7), color = 'red')\n",
    "plt.title('Age VS Selling Price')\n",
    "plt.xlabel('Age')\n",
    "plt.ylabel('Selling Price')\n",
    "plt.grid()\n"
   ]
  },
  {
   "cell_type": "code",
   "execution_count": 886,
   "id": "aa482d71",
   "metadata": {},
   "outputs": [
    {
     "name": "stdout",
     "output_type": "stream",
     "text": [
      "Mean Absolute Error :  0.9492967122009762\n",
      "Mean Squared Error :  1.449176073733379\n",
      "R2 Score :  0.9343157293113282\n"
     ]
    }
   ],
   "source": [
    "x_review = x.copy()\n",
    "x_review.insert(7, 'Age_2', (10/(0.28*(x_review['Age'])+0.4)-0.7))\n",
    "\n",
    "x_train_review, x_test_review, y_train_review, y_test_review = train_test_split(x_review,y, test_size = 0.2 , random_state = 0)\n",
    "\n",
    "regressor_review.fit(x_train_review, y_train_review)\n",
    "y_pred_review = regressor_review.predict(x_test_review)\n",
    "\n",
    "print('Mean Absolute Error : ' , metrics.mean_absolute_error(y_test_review,y_pred_review))\n",
    "print('Mean Squared Error : ' , metrics.mean_squared_error(y_test_review,y_pred_review))\n",
    "print('R2 Score : ' , metrics.r2_score(y_test_review,y_pred_review))"
   ]
  },
  {
   "cell_type": "code",
   "execution_count": 887,
   "id": "65d8b685",
   "metadata": {},
   "outputs": [
    {
     "name": "stdout",
     "output_type": "stream",
     "text": [
      "--------------- Age ---------------\n",
      "\n",
      "===> T = 2\n",
      "Mean Absolute Error :  0.9500021363153426\n",
      "Mean Squared Error :  1.435365858036007\n",
      "R2 Score :  0.9349416808175508\n",
      "\n",
      "===> T = 3\n",
      "Mean Absolute Error :  0.9483251482188617\n",
      "Mean Squared Error :  1.4390566137778384\n",
      "R2 Score :  0.9347743963835982\n",
      "\n",
      "===> T = 4\n",
      "Mean Absolute Error :  0.9468316336842318\n",
      "Mean Squared Error :  1.4448254133141143\n",
      "R2 Score :  0.9345129240910607\n",
      "\n",
      "===> T = 5\n",
      "Mean Absolute Error :  0.9453007216390292\n",
      "Mean Squared Error :  1.450906190546656\n",
      "R2 Score :  0.9342373113308315\n",
      "\n",
      "===> T = 6\n",
      "Mean Absolute Error :  0.9449384557936764\n",
      "Mean Squared Error :  1.4563077440205412\n",
      "R2 Score :  0.9339924845586064\n",
      "\n",
      "===> T = 7\n",
      "Mean Absolute Error :  0.9440625346557816\n",
      "Mean Squared Error :  1.4606307636353202\n",
      "R2 Score :  0.9337965426053019\n",
      "\n",
      "===> T = 8\n",
      "Mean Absolute Error :  0.944042644514252\n",
      "Mean Squared Error :  1.463840775352342\n",
      "R2 Score :  0.933651048015406\n",
      "\n",
      "===> T = 9\n",
      "Mean Absolute Error :  0.9441172084194235\n",
      "Mean Squared Error :  1.4660778378185881\n",
      "R2 Score :  0.9335496525954542\n",
      "\n",
      "===> T = 10\n",
      "Mean Absolute Error :  0.9438078254401403\n",
      "Mean Squared Error :  1.4675387144908278\n",
      "R2 Score :  0.93348343799219\n",
      "\n",
      "===> T = 11\n",
      "Mean Absolute Error :  0.9432982312380933\n",
      "Mean Squared Error :  1.4684186622485982\n",
      "R2 Score :  0.9334435541383499\n",
      "\n",
      "===> T = 12\n",
      "Mean Absolute Error :  0.9427126410882926\n",
      "Mean Squared Error :  1.468959335540967\n",
      "R2 Score :  0.9334190479851407\n",
      "\n",
      "===> T = 13\n",
      "Mean Absolute Error :  0.9430112475609133\n",
      "Mean Squared Error :  1.4718516045281684\n",
      "R2 Score :  0.9332879551645351\n",
      "\n",
      "===> T = 14\n",
      "Mean Absolute Error :  0.9542914409489575\n",
      "Mean Squared Error :  1.6365326708714518\n",
      "R2 Score :  0.9258237443380863\n",
      "\n",
      "===> T = 15\n",
      "Mean Absolute Error :  3.2087065704464743\n",
      "Mean Squared Error :  22.035832006363638\n",
      "R2 Score :  0.0012203619762617413\n",
      "\n",
      "===> T = 16\n",
      "Mean Absolute Error :  3.208213512274358\n",
      "Mean Squared Error :  22.016509343355796\n",
      "R2 Score :  0.0020961665457942535\n",
      "\n",
      "===> T = 17\n",
      "Mean Absolute Error :  3.22860190512379\n",
      "Mean Squared Error :  22.102759934557447\n",
      "R2 Score :  -0.0018131632328517444\n"
     ]
    }
   ],
   "source": [
    "print('--------------- Age ---------------')\n",
    "for i in range(2,18):\n",
    "    print(f'\\n===> T = {i}')\n",
    "    x_review = x.copy()\n",
    "    x_review.insert(7, f'Age_T{i}', (x_review['Age'])**i)\n",
    "\n",
    "    x_train_review, x_test_review, y_train_review, y_test_review = train_test_split(x_review,y, test_size = 0.2 , random_state = 0)\n",
    "\n",
    "    regressor_review.fit(x_train_review, y_train_review)\n",
    "    y_pred_review = regressor_review.predict(x_test_review)\n",
    "\n",
    "\n",
    "    print('Mean Absolute Error : ' , metrics.mean_absolute_error(y_test_review,y_pred_review))\n",
    "    print('Mean Squared Error : ' , metrics.mean_squared_error(y_test_review,y_pred_review))\n",
    "    print('R2 Score : ' , metrics.r2_score(y_test_review,y_pred_review))"
   ]
  },
  {
   "cell_type": "code",
   "execution_count": 888,
   "id": "d7d22afe",
   "metadata": {},
   "outputs": [
    {
     "name": "stdout",
     "output_type": "stream",
     "text": [
      "Mean Absolute Error :  0.9483251482188617\n",
      "Mean Squared Error :  1.4390566137778384\n",
      "R2 Score :  0.9347743963835982\n"
     ]
    }
   ],
   "source": [
    "x.insert(7, 'Age_T3', x['Age']**3)\n",
    "\n",
    "x_train, x_test, y_train, y_test = train_test_split(x,y, test_size = 0.2 , random_state = 0)\n",
    "\n",
    "regressor.fit(x_train, y_train)\n",
    "y_pred = regressor.predict(x_test)\n",
    "\n",
    "print('Mean Absolute Error : ' , metrics.mean_absolute_error(y_test,y_pred))\n",
    "print('Mean Squared Error : ' , metrics.mean_squared_error(y_test,y_pred))\n",
    "print('R2 Score : ' , metrics.r2_score(y_test,y_pred))"
   ]
  },
  {
   "cell_type": "code",
   "execution_count": 889,
   "id": "b948b23b",
   "metadata": {},
   "outputs": [],
   "source": [
    "### Result:\n",
    "### x['Age_T3'] = x['Age']**3"
   ]
  },
  {
   "cell_type": "markdown",
   "id": "28ede6ca",
   "metadata": {},
   "source": [
    "#### Kms_Driven"
   ]
  },
  {
   "cell_type": "code",
   "execution_count": 890,
   "id": "866c21fc",
   "metadata": {},
   "outputs": [
    {
     "name": "stdout",
     "output_type": "stream",
     "text": [
      "--------------- Kms_Driven ---------------\n",
      "\n",
      "===> T = 2\n",
      "Mean Absolute Error :  0.9211925520402826\n",
      "Mean Squared Error :  1.3383955117209136\n",
      "R2 Score :  0.9393368861977541\n",
      "\n",
      "===> T = 3\n",
      "Mean Absolute Error :  0.981172800337469\n",
      "Mean Squared Error :  1.903623764058379\n",
      "R2 Score :  0.9137177732408495\n",
      "\n",
      "===> T = 4\n",
      "Mean Absolute Error :  3.2213469889779964\n",
      "Mean Squared Error :  22.061483416224934\n",
      "R2 Score :  5.770536095139889e-05\n",
      "\n",
      "===> T = 5\n",
      "Mean Absolute Error :  3.2146330263704934\n",
      "Mean Squared Error :  22.11249658571362\n",
      "R2 Score :  -0.0022544793998344748\n",
      "\n",
      "===> T = 6\n",
      "Mean Absolute Error :  3.217787891671708\n",
      "Mean Squared Error :  22.140924691293606\n",
      "R2 Score :  -0.003542990448234251\n",
      "\n",
      "===> T = 7\n",
      "Mean Absolute Error :  3.2141075799977012\n",
      "Mean Squared Error :  22.43294531484818\n",
      "R2 Score :  -0.016778898790840824\n"
     ]
    }
   ],
   "source": [
    "print('--------------- Kms_Driven ---------------')\n",
    "for i in range(2,8):\n",
    "    print(f'\\n===> T = {i}')\n",
    "    x_review = x.copy()\n",
    "    x_review.insert(8, f'Kms_Driven_T{i}', (x_review['Kms_Driven'])**i)\n",
    "\n",
    "    x_train_review, x_test_review, y_train_review, y_test_review = train_test_split(x_review,y, test_size = 0.2 , random_state = 0)\n",
    "\n",
    "    regressor_review.fit(x_train_review, y_train_review)\n",
    "    y_pred_review = regressor_review.predict(x_test_review)\n",
    "\n",
    "\n",
    "    print('Mean Absolute Error : ' , metrics.mean_absolute_error(y_test_review,y_pred_review))\n",
    "    print('Mean Squared Error : ' , metrics.mean_squared_error(y_test_review,y_pred_review))\n",
    "    print('R2 Score : ' , metrics.r2_score(y_test_review,y_pred_review))"
   ]
  },
  {
   "cell_type": "code",
   "execution_count": 891,
   "id": "9d6d3d33",
   "metadata": {},
   "outputs": [
    {
     "name": "stdout",
     "output_type": "stream",
     "text": [
      "Mean Absolute Error :  0.9211925520402826\n",
      "Mean Squared Error :  1.3383955117209136\n",
      "R2 Score :  0.9393368861977541\n"
     ]
    }
   ],
   "source": [
    "x.insert(8, 'Kms_Driven_T2', x['Kms_Driven']**2)\n",
    "\n",
    "x_train, x_test, y_train, y_test = train_test_split(x,y, test_size = 0.2 , random_state = 0)\n",
    "\n",
    "regressor.fit(x_train, y_train)\n",
    "y_pred = regressor.predict(x_test)\n",
    "\n",
    "print('Mean Absolute Error : ' , metrics.mean_absolute_error(y_test,y_pred))\n",
    "print('Mean Squared Error : ' , metrics.mean_squared_error(y_test,y_pred))\n",
    "print('R2 Score : ' , metrics.r2_score(y_test,y_pred))"
   ]
  },
  {
   "cell_type": "code",
   "execution_count": 892,
   "id": "35fddce6",
   "metadata": {},
   "outputs": [],
   "source": [
    "### Result:\n",
    "### x['Kms_Driven_T2'] = x['Kms_Driven']**2"
   ]
  },
  {
   "cell_type": "markdown",
   "id": "9c517b1f",
   "metadata": {},
   "source": [
    "### Model analysis"
   ]
  },
  {
   "cell_type": "code",
   "execution_count": 893,
   "id": "18ffa2a6",
   "metadata": {},
   "outputs": [
    {
     "name": "stdout",
     "output_type": "stream",
     "text": [
      "Mean Absolute Error :  0.9211925520402826\n",
      "Mean Squared Error :  1.3383955117209136\n",
      "R2 Score :  0.9393368861977541\n"
     ]
    }
   ],
   "source": [
    "print('Mean Absolute Error : ' , metrics.mean_absolute_error(y_test,y_pred))\n",
    "print('Mean Squared Error : ' , metrics.mean_squared_error(y_test,y_pred))\n",
    "print('R2 Score : ' , metrics.r2_score(y_test,y_pred))"
   ]
  },
  {
   "cell_type": "code",
   "execution_count": 894,
   "id": "ea091fb0",
   "metadata": {},
   "outputs": [],
   "source": [
    "x_test_review = x_test.copy()\n",
    "x_test_review.insert(7, 'y_test', y_test)\n",
    "x_test_review.insert(8, 'y_pred', y_pred)"
   ]
  },
  {
   "cell_type": "code",
   "execution_count": 895,
   "id": "172abc96",
   "metadata": {},
   "outputs": [
    {
     "data": {
      "image/png": "[encoded data removed]",
      "text/plain": [
       "<Figure size 1200x400 with 1 Axes>"
      ]
     },
     "metadata": {},
     "output_type": "display_data"
    }
   ],
   "source": [
    "df_review = x_test_review.sort_values(by = ['Kms_Driven'])\n",
    "\n",
    "a = df_review.Kms_Driven\n",
    "b = df_review.y_test\n",
    "c = df_review.Kms_Driven\n",
    "d = df_review.y_pred\n",
    "plt.figure(figsize = (12,4))\n",
    "plt.xlabel('Kms Driven')\n",
    "plt.ylabel('Selling Price')\n",
    "plt.scatter(a , b)\n",
    "plt.plot(c , d , color = 'red')\n",
    "plt.show()"
   ]
  },
  {
   "cell_type": "code",
   "execution_count": 896,
   "id": "33454b8c",
   "metadata": {},
   "outputs": [
    {
     "data": {
      "image/png": "[encoded data removed]",
      "text/plain": [
       "<Figure size 1200x300 with 1 Axes>"
      ]
     },
     "metadata": {},
     "output_type": "display_data"
    }
   ],
   "source": [
    "df_review = x_test_review.sort_values(by = ['Present_Price'])\n",
    "\n",
    "a = df_review.Present_Price\n",
    "b = df_review.y_test\n",
    "c = df_review.Present_Price\n",
    "d = df_review.y_pred\n",
    "plt.figure(figsize = (12,3))\n",
    "plt.xlabel('Present Price')\n",
    "plt.ylabel('Selling Price')\n",
    "plt.scatter(a , b)\n",
    "plt.plot(c , d , color = 'red')\n",
    "plt.show()"
   ]
  },
  {
   "cell_type": "code",
   "execution_count": 897,
   "id": "c5c706ab",
   "metadata": {},
   "outputs": [
    {
     "data": {
      "text/plain": [
       "Text(0, 0.5, 'Prediction')"
      ]
     },
     "execution_count": 897,
     "metadata": {},
     "output_type": "execute_result"
    },
    {
     "data": {
      "image/png": "[encoded data removed]",
      "text/plain": [
       "<Figure size 640x480 with 1 Axes>"
      ]
     },
     "metadata": {},
     "output_type": "display_data"
    }
   ],
   "source": [
    "plt.scatter(y_test, y_pred)\n",
    "plt.plot([0,25], [0,25], color='red')\n",
    "plt.grid()\n",
    "plt.xlabel('Test')\n",
    "plt.ylabel('Prediction')"
   ]
  },
  {
   "cell_type": "markdown",
   "id": "816bf4ab",
   "metadata": {},
   "source": [
    "### Making the final model & Testing by many data"
   ]
  },
  {
   "cell_type": "code",
   "execution_count": 898,
   "id": "ab751f0f",
   "metadata": {},
   "outputs": [
    {
     "data": {
      "text/html": [
       "<style>#sk-container-id-17 {\n",
       "  /* Definition of color scheme common for light and dark mode */\n",
       "  --sklearn-color-text: black;\n",
       "  --sklearn-color-line: gray;\n",
       "  /* Definition of color scheme for unfitted estimators */\n",
       "  --sklearn-color-unfitted-level-0: #fff5e6;\n",
       "  --sklearn-color-unfitted-level-1: #f6e4d2;\n",
       "  --sklearn-color-unfitted-level-2: #ffe0b3;\n",
       "  --sklearn-color-unfitted-level-3: chocolate;\n",
       "  /* Definition of color scheme for fitted estimators */\n",
       "  --sklearn-color-fitted-level-0: #f0f8ff;\n",
       "  --sklearn-color-fitted-level-1: #d4ebff;\n",
       "  --sklearn-color-fitted-level-2: #b3dbfd;\n",
       "  --sklearn-color-fitted-level-3: cornflowerblue;\n",
       "\n",
       "  /* Specific color for light theme */\n",
       "  --sklearn-color-text-on-default-background: var(--sg-text-color, var(--theme-code-foreground, var(--jp-content-font-color1, black)));\n",
       "  --sklearn-color-background: var(--sg-background-color, var(--theme-background, var(--jp-layout-color0, white)));\n",
       "  --sklearn-color-border-box: var(--sg-text-color, var(--theme-code-foreground, var(--jp-content-font-color1, black)));\n",
       "  --sklearn-color-icon: #696969;\n",
       "\n",
       "  @media (prefers-color-scheme: dark) {\n",
       "    /* Redefinition of color scheme for dark theme */\n",
       "    --sklearn-color-text-on-default-background: var(--sg-text-color, var(--theme-code-foreground, var(--jp-content-font-color1, white)));\n",
       "    --sklearn-color-background: var(--sg-background-color, var(--theme-background, var(--jp-layout-color0, #111)));\n",
       "    --sklearn-color-border-box: var(--sg-text-color, var(--theme-code-foreground, var(--jp-content-font-color1, white)));\n",
       "    --sklearn-color-icon: #878787;\n",
       "  }\n",
       "}\n",
       "\n",
       "#sk-container-id-17 {\n",
       "  color: var(--sklearn-color-text);\n",
       "}\n",
       "\n",
       "#sk-container-id-17 pre {\n",
       "  padding: 0;\n",
       "}\n",
       "\n",
       "#sk-container-id-17 input.sk-hidden--visually {\n",
       "  border: 0;\n",
       "  clip: rect(1px 1px 1px 1px);\n",
       "  clip: rect(1px, 1px, 1px, 1px);\n",
       "  height: 1px;\n",
       "  margin: -1px;\n",
       "  overflow: hidden;\n",
       "  padding: 0;\n",
       "  position: absolute;\n",
       "  width: 1px;\n",
       "}\n",
       "\n",
       "#sk-container-id-17 div.sk-dashed-wrapped {\n",
       "  border: 1px dashed var(--sklearn-color-line);\n",
       "  margin: 0 0.4em 0.5em 0.4em;\n",
       "  box-sizing: border-box;\n",
       "  padding-bottom: 0.4em;\n",
       "  background-color: var(--sklearn-color-background);\n",
       "}\n",
       "\n",
       "#sk-container-id-17 div.sk-container {\n",
       "  /* jupyter's `normalize.less` sets `[hidden] { display: none; }`\n",
       "     but bootstrap.min.css set `[hidden] { display: none !important; }`\n",
       "     so we also need the `!important` here to be able to override the\n",
       "     default hidden behavior on the sphinx rendered scikit-learn.org.\n",
       "     See: https://github.com/scikit-learn/scikit-learn/issues/21755 */\n",
       "  display: inline-block !important;\n",
       "  position: relative;\n",
       "}\n",
       "\n",
       "#sk-container-id-17 div.sk-text-repr-fallback {\n",
       "  display: none;\n",
       "}\n",
       "\n",
       "div.sk-parallel-item,\n",
       "div.sk-serial,\n",
       "div.sk-item {\n",
       "  /* draw centered vertical line to link estimators */\n",
       "  background-image: linear-gradient(var(--sklearn-color-text-on-default-background), var(--sklearn-color-text-on-default-background));\n",
       "  background-size: 2px 100%;\n",
       "  background-repeat: no-repeat;\n",
       "  background-position: center center;\n",
       "}\n",
       "\n",
       "/* Parallel-specific style estimator block */\n",
       "\n",
       "#sk-container-id-17 div.sk-parallel-item::after {\n",
       "  content: \"\";\n",
       "  width: 100%;\n",
       "  border-bottom: 2px solid var(--sklearn-color-text-on-default-background);\n",
       "  flex-grow: 1;\n",
       "}\n",
       "\n",
       "#sk-container-id-17 div.sk-parallel {\n",
       "  display: flex;\n",
       "  align-items: stretch;\n",
       "  justify-content: center;\n",
       "  background-color: var(--sklearn-color-background);\n",
       "  position: relative;\n",
       "}\n",
       "\n",
       "#sk-container-id-17 div.sk-parallel-item {\n",
       "  display: flex;\n",
       "  flex-direction: column;\n",
       "}\n",
       "\n",
       "#sk-container-id-17 div.sk-parallel-item:first-child::after {\n",
       "  align-self: flex-end;\n",
       "  width: 50%;\n",
       "}\n",
       "\n",
       "#sk-container-id-17 div.sk-parallel-item:last-child::after {\n",
       "  align-self: flex-start;\n",
       "  width: 50%;\n",
       "}\n",
       "\n",
       "#sk-container-id-17 div.sk-parallel-item:only-child::after {\n",
       "  width: 0;\n",
       "}\n",
       "\n",
       "/* Serial-specific style estimator block */\n",
       "\n",
       "#sk-container-id-17 div.sk-serial {\n",
       "  display: flex;\n",
       "  flex-direction: column;\n",
       "  align-items: center;\n",
       "  background-color: var(--sklearn-color-background);\n",
       "  padding-right: 1em;\n",
       "  padding-left: 1em;\n",
       "}\n",
       "\n",
       "\n",
       "/* Toggleable style: style used for estimator/Pipeline/ColumnTransformer box that is\n",
       "clickable and can be expanded/collapsed.\n",
       "- Pipeline and ColumnTransformer use this feature and define the default style\n",
       "- Estimators will overwrite some part of the style using the `sk-estimator` class\n",
       "*/\n",
       "\n",
       "/* Pipeline and ColumnTransformer style (default) */\n",
       "\n",
       "#sk-container-id-17 div.sk-toggleable {\n",
       "  /* Default theme specific background. It is overwritten whether we have a\n",
       "  specific estimator or a Pipeline/ColumnTransformer */\n",
       "  background-color: var(--sklearn-color-background);\n",
       "}\n",
       "\n",
       "/* Toggleable label */\n",
       "#sk-container-id-17 label.sk-toggleable__label {\n",
       "  cursor: pointer;\n",
       "  display: block;\n",
       "  width: 100%;\n",
       "  margin-bottom: 0;\n",
       "  padding: 0.5em;\n",
       "  box-sizing: border-box;\n",
       "  text-align: center;\n",
       "}\n",
       "\n",
       "#sk-container-id-17 label.sk-toggleable__label-arrow:before {\n",
       "  /* Arrow on the left of the label */\n",
       "  content: \"▸\";\n",
       "  float: left;\n",
       "  margin-right: 0.25em;\n",
       "  color: var(--sklearn-color-icon);\n",
       "}\n",
       "\n",
       "#sk-container-id-17 label.sk-toggleable__label-arrow:hover:before {\n",
       "  color: var(--sklearn-color-text);\n",
       "}\n",
       "\n",
       "/* Toggleable content - dropdown */\n",
       "\n",
       "#sk-container-id-17 div.sk-toggleable__content {\n",
       "  max-height: 0;\n",
       "  max-width: 0;\n",
       "  overflow: hidden;\n",
       "  text-align: left;\n",
       "  /* unfitted */\n",
       "  background-color: var(--sklearn-color-unfitted-level-0);\n",
       "}\n",
       "\n",
       "#sk-container-id-17 div.sk-toggleable__content.fitted {\n",
       "  /* fitted */\n",
       "  background-color: var(--sklearn-color-fitted-level-0);\n",
       "}\n",
       "\n",
       "#sk-container-id-17 div.sk-toggleable__content pre {\n",
       "  margin: 0.2em;\n",
       "  border-radius: 0.25em;\n",
       "  color: var(--sklearn-color-text);\n",
       "  /* unfitted */\n",
       "  background-color: var(--sklearn-color-unfitted-level-0);\n",
       "}\n",
       "\n",
       "#sk-container-id-17 div.sk-toggleable__content.fitted pre {\n",
       "  /* unfitted */\n",
       "  background-color: var(--sklearn-color-fitted-level-0);\n",
       "}\n",
       "\n",
       "#sk-container-id-17 input.sk-toggleable__control:checked~div.sk-toggleable__content {\n",
       "  /* Expand drop-down */\n",
       "  max-height: 200px;\n",
       "  max-width: 100%;\n",
       "  overflow: auto;\n",
       "}\n",
       "\n",
       "#sk-container-id-17 input.sk-toggleable__control:checked~label.sk-toggleable__label-arrow:before {\n",
       "  content: \"▾\";\n",
       "}\n",
       "\n",
       "/* Pipeline/ColumnTransformer-specific style */\n",
       "\n",
       "#sk-container-id-17 div.sk-label input.sk-toggleable__control:checked~label.sk-toggleable__label {\n",
       "  color: var(--sklearn-color-text);\n",
       "  background-color: var(--sklearn-color-unfitted-level-2);\n",
       "}\n",
       "\n",
       "#sk-container-id-17 div.sk-label.fitted input.sk-toggleable__control:checked~label.sk-toggleable__label {\n",
       "  background-color: var(--sklearn-color-fitted-level-2);\n",
       "}\n",
       "\n",
       "/* Estimator-specific style */\n",
       "\n",
       "/* Colorize estimator box */\n",
       "#sk-container-id-17 div.sk-estimator input.sk-toggleable__control:checked~label.sk-toggleable__label {\n",
       "  /* unfitted */\n",
       "  background-color: var(--sklearn-color-unfitted-level-2);\n",
       "}\n",
       "\n",
       "#sk-container-id-17 div.sk-estimator.fitted input.sk-toggleable__control:checked~label.sk-toggleable__label {\n",
       "  /* fitted */\n",
       "  background-color: var(--sklearn-color-fitted-level-2);\n",
       "}\n",
       "\n",
       "#sk-container-id-17 div.sk-label label.sk-toggleable__label,\n",
       "#sk-container-id-17 div.sk-label label {\n",
       "  /* The background is the default theme color */\n",
       "  color: var(--sklearn-color-text-on-default-background);\n",
       "}\n",
       "\n",
       "/* On hover, darken the color of the background */\n",
       "#sk-container-id-17 div.sk-label:hover label.sk-toggleable__label {\n",
       "  color: var(--sklearn-color-text);\n",
       "  background-color: var(--sklearn-color-unfitted-level-2);\n",
       "}\n",
       "\n",
       "/* Label box, darken color on hover, fitted */\n",
       "#sk-container-id-17 div.sk-label.fitted:hover label.sk-toggleable__label.fitted {\n",
       "  color: var(--sklearn-color-text);\n",
       "  background-color: var(--sklearn-color-fitted-level-2);\n",
       "}\n",
       "\n",
       "/* Estimator label */\n",
       "\n",
       "#sk-container-id-17 div.sk-label label {\n",
       "  font-family: monospace;\n",
       "  font-weight: bold;\n",
       "  display: inline-block;\n",
       "  line-height: 1.2em;\n",
       "}\n",
       "\n",
       "#sk-container-id-17 div.sk-label-container {\n",
       "  text-align: center;\n",
       "}\n",
       "\n",
       "/* Estimator-specific */\n",
       "#sk-container-id-17 div.sk-estimator {\n",
       "  font-family: monospace;\n",
       "  border: 1px dotted var(--sklearn-color-border-box);\n",
       "  border-radius: 0.25em;\n",
       "  box-sizing: border-box;\n",
       "  margin-bottom: 0.5em;\n",
       "  /* unfitted */\n",
       "  background-color: var(--sklearn-color-unfitted-level-0);\n",
       "}\n",
       "\n",
       "#sk-container-id-17 div.sk-estimator.fitted {\n",
       "  /* fitted */\n",
       "  background-color: var(--sklearn-color-fitted-level-0);\n",
       "}\n",
       "\n",
       "/* on hover */\n",
       "#sk-container-id-17 div.sk-estimator:hover {\n",
       "  /* unfitted */\n",
       "  background-color: var(--sklearn-color-unfitted-level-2);\n",
       "}\n",
       "\n",
       "#sk-container-id-17 div.sk-estimator.fitted:hover {\n",
       "  /* fitted */\n",
       "  background-color: var(--sklearn-color-fitted-level-2);\n",
       "}\n",
       "\n",
       "/* Specification for estimator info (e.g. \"i\" and \"?\") */\n",
       "\n",
       "/* Common style for \"i\" and \"?\" */\n",
       "\n",
       ".sk-estimator-doc-link,\n",
       "a:link.sk-estimator-doc-link,\n",
       "a:visited.sk-estimator-doc-link {\n",
       "  float: right;\n",
       "  font-size: smaller;\n",
       "  line-height: 1em;\n",
       "  font-family: monospace;\n",
       "  background-color: var(--sklearn-color-background);\n",
       "  border-radius: 1em;\n",
       "  height: 1em;\n",
       "  width: 1em;\n",
       "  text-decoration: none !important;\n",
       "  margin-left: 1ex;\n",
       "  /* unfitted */\n",
       "  border: var(--sklearn-color-unfitted-level-1) 1pt solid;\n",
       "  color: var(--sklearn-color-unfitted-level-1);\n",
       "}\n",
       "\n",
       ".sk-estimator-doc-link.fitted,\n",
       "a:link.sk-estimator-doc-link.fitted,\n",
       "a:visited.sk-estimator-doc-link.fitted {\n",
       "  /* fitted */\n",
       "  border: var(--sklearn-color-fitted-level-1) 1pt solid;\n",
       "  color: var(--sklearn-color-fitted-level-1);\n",
       "}\n",
       "\n",
       "/* On hover */\n",
       "div.sk-estimator:hover .sk-estimator-doc-link:hover,\n",
       ".sk-estimator-doc-link:hover,\n",
       "div.sk-label-container:hover .sk-estimator-doc-link:hover,\n",
       ".sk-estimator-doc-link:hover {\n",
       "  /* unfitted */\n",
       "  background-color: var(--sklearn-color-unfitted-level-3);\n",
       "  color: var(--sklearn-color-background);\n",
       "  text-decoration: none;\n",
       "}\n",
       "\n",
       "div.sk-estimator.fitted:hover .sk-estimator-doc-link.fitted:hover,\n",
       ".sk-estimator-doc-link.fitted:hover,\n",
       "div.sk-label-container:hover .sk-estimator-doc-link.fitted:hover,\n",
       ".sk-estimator-doc-link.fitted:hover {\n",
       "  /* fitted */\n",
       "  background-color: var(--sklearn-color-fitted-level-3);\n",
       "  color: var(--sklearn-color-background);\n",
       "  text-decoration: none;\n",
       "}\n",
       "\n",
       "/* Span, style for the box shown on hovering the info icon */\n",
       ".sk-estimator-doc-link span {\n",
       "  display: none;\n",
       "  z-index: 9999;\n",
       "  position: relative;\n",
       "  font-weight: normal;\n",
       "  right: .2ex;\n",
       "  padding: .5ex;\n",
       "  margin: .5ex;\n",
       "  width: min-content;\n",
       "  min-width: 20ex;\n",
       "  max-width: 50ex;\n",
       "  color: var(--sklearn-color-text);\n",
       "  box-shadow: 2pt 2pt 4pt #999;\n",
       "  /* unfitted */\n",
       "  background: var(--sklearn-color-unfitted-level-0);\n",
       "  border: .5pt solid var(--sklearn-color-unfitted-level-3);\n",
       "}\n",
       "\n",
       ".sk-estimator-doc-link.fitted span {\n",
       "  /* fitted */\n",
       "  background: var(--sklearn-color-fitted-level-0);\n",
       "  border: var(--sklearn-color-fitted-level-3);\n",
       "}\n",
       "\n",
       ".sk-estimator-doc-link:hover span {\n",
       "  display: block;\n",
       "}\n",
       "\n",
       "/* \"?\"-specific style due to the `<a>` HTML tag */\n",
       "\n",
       "#sk-container-id-17 a.estimator_doc_link {\n",
       "  float: right;\n",
       "  font-size: 1rem;\n",
       "  line-height: 1em;\n",
       "  font-family: monospace;\n",
       "  background-color: var(--sklearn-color-background);\n",
       "  border-radius: 1rem;\n",
       "  height: 1rem;\n",
       "  width: 1rem;\n",
       "  text-decoration: none;\n",
       "  /* unfitted */\n",
       "  color: var(--sklearn-color-unfitted-level-1);\n",
       "  border: var(--sklearn-color-unfitted-level-1) 1pt solid;\n",
       "}\n",
       "\n",
       "#sk-container-id-17 a.estimator_doc_link.fitted {\n",
       "  /* fitted */\n",
       "  border: var(--sklearn-color-fitted-level-1) 1pt solid;\n",
       "  color: var(--sklearn-color-fitted-level-1);\n",
       "}\n",
       "\n",
       "/* On hover */\n",
       "#sk-container-id-17 a.estimator_doc_link:hover {\n",
       "  /* unfitted */\n",
       "  background-color: var(--sklearn-color-unfitted-level-3);\n",
       "  color: var(--sklearn-color-background);\n",
       "  text-decoration: none;\n",
       "}\n",
       "\n",
       "#sk-container-id-17 a.estimator_doc_link.fitted:hover {\n",
       "  /* fitted */\n",
       "  background-color: var(--sklearn-color-fitted-level-3);\n",
       "}\n",
       "</style><div id=\"sk-container-id-17\" class=\"sk-top-container\"><div class=\"sk-text-repr-fallback\"><pre>LinearRegression()</pre><b>In a Jupyter environment, please rerun this cell to show the HTML representation or trust the notebook. <br />On GitHub, the HTML representation is unable to render, please try loading this page with nbviewer.org.</b></div><div class=\"sk-container\" hidden><div class=\"sk-item\"><div class=\"sk-estimator fitted sk-toggleable\"><input class=\"sk-toggleable__control sk-hidden--visually\" id=\"sk-estimator-id-17\" type=\"checkbox\" checked><label for=\"sk-estimator-id-17\" class=\"sk-toggleable__label fitted sk-toggleable__label-arrow fitted\">&nbsp;&nbsp;LinearRegression<a class=\"sk-estimator-doc-link fitted\" rel=\"noreferrer\" target=\"_blank\" href=\"https://scikit-learn.org/1.4/modules/generated/sklearn.linear_model.LinearRegression.html\">?<span>Documentation for LinearRegression</span></a><span class=\"sk-estimator-doc-link fitted\">i<span>Fitted</span></span></label><div class=\"sk-toggleable__content fitted\"><pre>LinearRegression()</pre></div> </div></div></div></div>"
      ],
      "text/plain": [
       "LinearRegression()"
      ]
     },
     "execution_count": 898,
     "metadata": {},
     "output_type": "execute_result"
    }
   ],
   "source": [
    "final_regressor = LinearRegression()\n",
    "final_regressor.fit(x, y)"
   ]
  },
  {
   "cell_type": "code",
   "execution_count": 899,
   "id": "78b20d45",
   "metadata": {},
   "outputs": [],
   "source": [
    "x_input = x.iloc[0:300:45]\n",
    "y_real = y[0:300:45]\n",
    "y_output = final_regressor.predict(x_input)"
   ]
  },
  {
   "cell_type": "code",
   "execution_count": 900,
   "id": "d09766e7",
   "metadata": {},
   "outputs": [
    {
     "data": {
      "text/html": [
       "<div>\n",
       "<style scoped>\n",
       "    .dataframe tbody tr th:only-of-type {\n",
       "        vertical-align: middle;\n",
       "    }\n",
       "\n",
       "    .dataframe tbody tr th {\n",
       "        vertical-align: top;\n",
       "    }\n",
       "\n",
       "    .dataframe thead th {\n",
       "        text-align: right;\n",
       "    }\n",
       "</style>\n",
       "<table border=\"1\" class=\"dataframe\">\n",
       "  <thead>\n",
       "    <tr style=\"text-align: right;\">\n",
       "      <th></th>\n",
       "      <th>Real</th>\n",
       "      <th>Output</th>\n",
       "    </tr>\n",
       "  </thead>\n",
       "  <tbody>\n",
       "    <tr>\n",
       "      <th>0</th>\n",
       "      <td>3.35</td>\n",
       "      <td>3.665967</td>\n",
       "    </tr>\n",
       "    <tr>\n",
       "      <th>1</th>\n",
       "      <td>7.50</td>\n",
       "      <td>7.844150</td>\n",
       "    </tr>\n",
       "    <tr>\n",
       "      <th>2</th>\n",
       "      <td>23.00</td>\n",
       "      <td>19.040872</td>\n",
       "    </tr>\n",
       "    <tr>\n",
       "      <th>3</th>\n",
       "      <td>0.60</td>\n",
       "      <td>1.549380</td>\n",
       "    </tr>\n",
       "    <tr>\n",
       "      <th>4</th>\n",
       "      <td>0.27</td>\n",
       "      <td>-0.098939</td>\n",
       "    </tr>\n",
       "    <tr>\n",
       "      <th>5</th>\n",
       "      <td>4.95</td>\n",
       "      <td>5.647477</td>\n",
       "    </tr>\n",
       "    <tr>\n",
       "      <th>6</th>\n",
       "      <td>2.25</td>\n",
       "      <td>2.567100</td>\n",
       "    </tr>\n",
       "  </tbody>\n",
       "</table>\n",
       "</div>"
      ],
      "text/plain": [
       "    Real     Output\n",
       "0   3.35   3.665967\n",
       "1   7.50   7.844150\n",
       "2  23.00  19.040872\n",
       "3   0.60   1.549380\n",
       "4   0.27  -0.098939\n",
       "5   4.95   5.647477\n",
       "6   2.25   2.567100"
      ]
     },
     "execution_count": 900,
     "metadata": {},
     "output_type": "execute_result"
    }
   ],
   "source": [
    "pd.DataFrame({'Real': np.concatenate(y_real), 'Output': np.concatenate(y_output)})"
   ]
  },
  {
   "cell_type": "markdown",
   "id": "727748f3",
   "metadata": {},
   "source": [
    "### Result"
   ]
  },
  {
   "cell_type": "code",
   "execution_count": 901,
   "id": "c949e396",
   "metadata": {},
   "outputs": [
    {
     "name": "stdout",
     "output_type": "stream",
     "text": [
      "[-3.146766]\n",
      "[[-4.94150627e-01  5.35244164e-01 -2.92382996e-05  7.39432248e-01\n",
      "   9.87146922e-02  2.02738898e-01 -1.22657146e-01  1.11427277e-03\n",
      "   6.04733504e-11]]\n"
     ]
    }
   ],
   "source": [
    "print(final_regressor.intercept_)\n",
    "print(final_regressor.coef_)"
   ]
  },
  {
   "cell_type": "code",
   "execution_count": 902,
   "id": "9fc5bba6",
   "metadata": {},
   "outputs": [],
   "source": [
    "### Final model\n",
    "\n",
    "# Y = -3.146766\n",
    "#     -4.94150627e-01   *   (2019 - Year)\n",
    "#     +5.35244164e-01   *   Present_Price\n",
    "#     -2.92382996e-05   *   Kms_Driven\n",
    "#     +7.39432248e-01   *   Fuel_Type\n",
    "#     +9.87146922e-02   *   Seller_Type\n",
    "#     +2.02738898e-01   *   Transmission\n",
    "#     -1.22657146e-01   *   Owner\n",
    "#     +1.11427277e-03   *   (2019 - Year) ** 3\n",
    "#     +6.04733504e-11   *   (Kms_Driven) ** 2\n",
    "\n",
    "#      Fuel_Type    =>   CNG: 5,  Petrol: 8,  Diesel: 10\n",
    "#      Seller_Type  =>   Individual: 2,  Dealer: 10\n",
    "#      Transmission =>   Manual: 3,  Automatic: 5\n",
    "#      Owner        =>   Yes: 1,  No: 5"
   ]
  },
  {
   "cell_type": "code",
   "execution_count": 906,
   "id": "740c82ac",
   "metadata": {},
   "outputs": [
    {
     "name": "stdout",
     "output_type": "stream",
     "text": [
      "\n",
      "(CNG: 5,  Petrol: 8,  Diesel: 10)\n",
      "\n",
      "(Individual: 2,  Dealer: 10)\n",
      "\n",
      "(Manual: 3,  Automatic: 5)\n",
      "\n",
      "(Yes: 1,  No: 5)\n",
      "\n",
      "\n",
      "===> Selling price: 2.438931834314817\n"
     ]
    }
   ],
   "source": [
    "### Simple program\n",
    "\n",
    "year = float(input('Enter year: '))\n",
    "present_price = float(input('\\nEnter present price: '))\n",
    "kms_driven = float(input('\\nEnter kms driven: '))\n",
    "print('\\n(CNG: 5,  Petrol: 8,  Diesel: 10)')\n",
    "fuel_type = float(input('Enter fuel type: '))\n",
    "print('\\n(Individual: 2,  Dealer: 10)')\n",
    "seller_type = float(input('Enter seller type: '))\n",
    "print('\\n(Manual: 3,  Automatic: 5)')\n",
    "transmission = float(input('Enter Transmission: '))\n",
    "print('\\n(Yes: 1,  No: 5)')\n",
    "owner = float(input('Enter Owner: '))\n",
    "\n",
    "selling_price = -  3.146766  -  4.94150627e-01 * (2019 - year)  +  5.35244164e-01 * present_price  -  2.92382996e-05 * kms_driven  +  7.39432248e-01 * fuel_type  +  9.87146922e-02 * seller_type  +  2.02738898e-01 * transmission  -  1.22657146e-01 * owner  +  1.11427277e-03 * (2019 - year) ** 3  +  6.04733504e-11 * (kms_driven) ** 2\n",
    "\n",
    "print(f'\\n\\n===> Selling price: {selling_price}')"
   ]
  },
  {
   "cell_type": "code",
   "execution_count": 904,
   "id": "3b8803fd",
   "metadata": {},
   "outputs": [
    {
     "data": {
      "text/html": [
       "<div>\n",
       "<style scoped>\n",
       "    .dataframe tbody tr th:only-of-type {\n",
       "        vertical-align: middle;\n",
       "    }\n",
       "\n",
       "    .dataframe tbody tr th {\n",
       "        vertical-align: top;\n",
       "    }\n",
       "\n",
       "    .dataframe thead th {\n",
       "        text-align: right;\n",
       "    }\n",
       "</style>\n",
       "<table border=\"1\" class=\"dataframe\">\n",
       "  <thead>\n",
       "    <tr style=\"text-align: right;\">\n",
       "      <th></th>\n",
       "      <th>Age</th>\n",
       "      <th>Selling_Price</th>\n",
       "      <th>Present_Price</th>\n",
       "      <th>Kms_Driven</th>\n",
       "      <th>Fuel_Type</th>\n",
       "      <th>Seller_Type</th>\n",
       "      <th>Transmission</th>\n",
       "      <th>Owner</th>\n",
       "    </tr>\n",
       "  </thead>\n",
       "  <tbody>\n",
       "    <tr>\n",
       "      <th>0</th>\n",
       "      <td>5</td>\n",
       "      <td>3.35</td>\n",
       "      <td>5.59</td>\n",
       "      <td>27000</td>\n",
       "      <td>8</td>\n",
       "      <td>10</td>\n",
       "      <td>3</td>\n",
       "      <td>5</td>\n",
       "    </tr>\n",
       "    <tr>\n",
       "      <th>1</th>\n",
       "      <td>6</td>\n",
       "      <td>4.75</td>\n",
       "      <td>9.54</td>\n",
       "      <td>43000</td>\n",
       "      <td>10</td>\n",
       "      <td>10</td>\n",
       "      <td>3</td>\n",
       "      <td>5</td>\n",
       "    </tr>\n",
       "    <tr>\n",
       "      <th>2</th>\n",
       "      <td>2</td>\n",
       "      <td>7.25</td>\n",
       "      <td>9.85</td>\n",
       "      <td>6900</td>\n",
       "      <td>8</td>\n",
       "      <td>10</td>\n",
       "      <td>3</td>\n",
       "      <td>5</td>\n",
       "    </tr>\n",
       "    <tr>\n",
       "      <th>3</th>\n",
       "      <td>8</td>\n",
       "      <td>2.85</td>\n",
       "      <td>4.15</td>\n",
       "      <td>5200</td>\n",
       "      <td>8</td>\n",
       "      <td>10</td>\n",
       "      <td>3</td>\n",
       "      <td>5</td>\n",
       "    </tr>\n",
       "    <tr>\n",
       "      <th>4</th>\n",
       "      <td>5</td>\n",
       "      <td>4.60</td>\n",
       "      <td>6.87</td>\n",
       "      <td>42450</td>\n",
       "      <td>10</td>\n",
       "      <td>10</td>\n",
       "      <td>3</td>\n",
       "      <td>5</td>\n",
       "    </tr>\n",
       "    <tr>\n",
       "      <th>...</th>\n",
       "      <td>...</td>\n",
       "      <td>...</td>\n",
       "      <td>...</td>\n",
       "      <td>...</td>\n",
       "      <td>...</td>\n",
       "      <td>...</td>\n",
       "      <td>...</td>\n",
       "      <td>...</td>\n",
       "    </tr>\n",
       "    <tr>\n",
       "      <th>296</th>\n",
       "      <td>3</td>\n",
       "      <td>9.50</td>\n",
       "      <td>11.60</td>\n",
       "      <td>33988</td>\n",
       "      <td>10</td>\n",
       "      <td>10</td>\n",
       "      <td>3</td>\n",
       "      <td>5</td>\n",
       "    </tr>\n",
       "    <tr>\n",
       "      <th>297</th>\n",
       "      <td>4</td>\n",
       "      <td>4.00</td>\n",
       "      <td>5.90</td>\n",
       "      <td>60000</td>\n",
       "      <td>8</td>\n",
       "      <td>10</td>\n",
       "      <td>3</td>\n",
       "      <td>5</td>\n",
       "    </tr>\n",
       "    <tr>\n",
       "      <th>298</th>\n",
       "      <td>10</td>\n",
       "      <td>3.35</td>\n",
       "      <td>11.00</td>\n",
       "      <td>87934</td>\n",
       "      <td>8</td>\n",
       "      <td>10</td>\n",
       "      <td>3</td>\n",
       "      <td>5</td>\n",
       "    </tr>\n",
       "    <tr>\n",
       "      <th>299</th>\n",
       "      <td>2</td>\n",
       "      <td>11.50</td>\n",
       "      <td>12.50</td>\n",
       "      <td>9000</td>\n",
       "      <td>10</td>\n",
       "      <td>10</td>\n",
       "      <td>3</td>\n",
       "      <td>5</td>\n",
       "    </tr>\n",
       "    <tr>\n",
       "      <th>300</th>\n",
       "      <td>3</td>\n",
       "      <td>5.30</td>\n",
       "      <td>5.90</td>\n",
       "      <td>5464</td>\n",
       "      <td>8</td>\n",
       "      <td>10</td>\n",
       "      <td>3</td>\n",
       "      <td>5</td>\n",
       "    </tr>\n",
       "  </tbody>\n",
       "</table>\n",
       "<p>298 rows × 8 columns</p>\n",
       "</div>"
      ],
      "text/plain": [
       "     Age  Selling_Price  Present_Price  Kms_Driven  Fuel_Type  Seller_Type  \\\n",
       "0      5           3.35           5.59       27000          8           10   \n",
       "1      6           4.75           9.54       43000         10           10   \n",
       "2      2           7.25           9.85        6900          8           10   \n",
       "3      8           2.85           4.15        5200          8           10   \n",
       "4      5           4.60           6.87       42450         10           10   \n",
       "..   ...            ...            ...         ...        ...          ...   \n",
       "296    3           9.50          11.60       33988         10           10   \n",
       "297    4           4.00           5.90       60000          8           10   \n",
       "298   10           3.35          11.00       87934          8           10   \n",
       "299    2          11.50          12.50        9000         10           10   \n",
       "300    3           5.30           5.90        5464          8           10   \n",
       "\n",
       "     Transmission  Owner  \n",
       "0               3      5  \n",
       "1               3      5  \n",
       "2               3      5  \n",
       "3               3      5  \n",
       "4               3      5  \n",
       "..            ...    ...  \n",
       "296             3      5  \n",
       "297             3      5  \n",
       "298             3      5  \n",
       "299             3      5  \n",
       "300             3      5  \n",
       "\n",
       "[298 rows x 8 columns]"
      ]
     },
     "execution_count": 904,
     "metadata": {},
     "output_type": "execute_result"
    }
   ],
   "source": [
    "df5"
   ]
  }
 ],
 "metadata": {
  "kernelspec": {
   "display_name": "Python 3 (ipykernel)",
   "language": "python",
   "name": "python3"
  },
  "language_info": {
   "codemirror_mode": {
    "name": "ipython",
    "version": 3
   },
   "file_extension": ".py",
   "mimetype": "text/x-python",
   "name": "python",
   "nbconvert_exporter": "python",
   "pygments_lexer": "ipython3",
   "version": "3.12.0"
  }
 },
 "nbformat": 4,
 "nbformat_minor": 5
}
